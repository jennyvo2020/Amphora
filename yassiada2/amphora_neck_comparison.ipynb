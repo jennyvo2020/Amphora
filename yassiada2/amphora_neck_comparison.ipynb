{
 "cells": [
  {
   "cell_type": "markdown",
   "metadata": {},
   "source": [
    "# Objective\n",
    "\n",
    "Execute shape comparison of amphora necks to answer research questions outlined below, in Results.\n",
    "\n",
    "# Results\n",
    "\n",
    "Scroll through the notebook for visualizations/plots.\n",
    "\n",
    "### General observations regarding each of the groups, and addressing James's and Justin's specific questions\n",
    "\n",
    "#### Spiral comb - main group (n = 28)\n",
    "- Question James had: Do the amphora necks of this group cluster / appear to be standardized in terms of shape difference? \n",
    "    - These results show varied shape difference from the reference jar for this group.\n",
    "    - Average NND covers the whole spectrum. Some of these jars deviate in shape from the average jar (86-93) as little as 3.3 mm on average, others 10.0 mm on average. \n",
    "\n",
    "#### Wide band of combing/squared handles (n = 7)\n",
    "- Questions James and Justin had: James - Do the observed differences in decoration and handle shape which characterize the \"wide band combing-square handle\" group correspond to significant differences in neck size and shape in comparison with other members of the spiral comb group? \n",
    "    - The observed differences in decoration and handle shape which characterize the \"wide band combing-square handle\" group do ****not**** seem to correspond to significant differences in neck size and shape in comparison with other members of the spiral comb group. Shape difference with the reference jar is varied and spans almost the entire range of average NNDs.\n",
    "- Question James had: If there is an observable difference, is there a clear separation? Or are there amphoras that sit ambiguously between the two groups?\n",
    "    - The results do not show observable difference nor clear separation between the \"wide band combing-square handle\" jars and the other spiral combed jars, in terms of neck shape difference with the reference jar.\n",
    "- Question Justin had - Can the approach identify the seven \"wide band combing-square handle\" amphoras as outliers (and if indeed they are outliers, or if they’re essentially morphologically the same in the neck save for the combing)?\n",
    "    - This approach does not identify the seven wide band combing-square handle amphoras as outliers. They seem to be morphologically same in the neck save for the combing. (Jars of this group vary in shape from the average jar (86-95) as little as 4.3 mm on average and as much as 6.5 mm on average.)\n",
    "\n",
    "#### Spiral comb - fractional (n = 7)\n",
    "- Question James had: Are the necks of the smaller-sized amphoras the same as or different from those of regular-sized ones?\n",
    "    - NND range: 3.8 to 6.7 mm\n",
    "    - So, shape difference of fractional jars compared with the reference jar is highly varied and spans all except the upper range of shape differences between regular-sized jars and the reference jar.\n",
    "- Keeping in mind Justin's note that the fractional jars are not necessarily similar to each other, it is reasonable that their average NND from the reference jar would cover the whole spectrum.\n",
    "\n",
    "#### Spiral comb - massive neck, massive diagonal handles (n = 2)\n",
    "- Both have a large shape difference from the reference jar (8.3 to 8.8 mm)\n",
    "\n",
    "#### Spiral comb - massive neck, massive vertical handles (n = 2)\n",
    "- Varied shape difference from the reference jar (3.4 to 6.5 mm)\n",
    "\n",
    "#### Spiral combed - main group - ring lip (n = 3)\n",
    "- Varied, moderate shape difference from the reference jar, with NND 4.0 to 6.4 mm.\n",
    "- The addition of a ring lip does not seem to have substantially affected the shape.\n",
    "\n",
    "#### Spiral combed - \"outlier?\" (n = 1)\n",
    "- Type in the spreadsheet indicates that it might be an outlier\n",
    "- Doesn't seem to be an outlier in any regard as far as neck shape goes, just a bit on the upper end (7.3 mm)\n",
    "\n",
    "### Addressing Justin and James's overarching questions\n",
    "\n",
    "- Justin: Are the typological identifications based on handle shape and body decoration meaningful?\n",
    "    - It seems that the typological identifications based on handle shape and body decoration might be meaningful for jars with massive necks, especially the ones with massive vertical handles (and perhaps to some extent, the jars with massive diagonal handles, since those two are also close to each other). The typological identifications seem to be less meaningful for jars with wide band of combing/squared handles.\n",
    "    \n",
    "- James: Do observed differences in neck size and shape correspond to differences in body shape, or do these apparently different amphoras follow the same standard?\n",
    "    - For the jars with massive necks and massive diagonal handles, the consistently large neck differences do correspond to differences in body shape.\n",
    "    - For the jars with massive necks and massive vertical handles, the varied neck differences also correspond to differences in body shape.\n",
    "    - The \"outlier\" (amphora F) is also in roughly the same location on this plot of necks as on the plot of bodies.\n",
    "    - The \"ring lip\" amphoras are more tightly clustered on the plot of bodies than on this plot of necks.\n",
    "    - The fractional amphoras are also more tightly clustered on the plot of bodies than on this plot of necks."
   ]
  },
  {
   "cell_type": "code",
   "execution_count": 1,
   "metadata": {},
   "outputs": [],
   "source": [
    "import sys\n",
    "sys.path.insert(0,'../')\n",
    "import util\n",
    "import matplotlib.pyplot as plt\n",
    "import numpy as np\n",
    "%load_ext autoreload\n",
    "%autoreload 2"
   ]
  },
  {
   "cell_type": "code",
   "execution_count": 22,
   "metadata": {},
   "outputs": [],
   "source": [
    "compare = ['83-2',\n",
    "            '84-1',\n",
    "            '84-3',\n",
    "            '84-10',\n",
    "            '86-38',\n",
    "            '86-45',\n",
    "            '86-75',\n",
    "            '86-85',\n",
    "            '86-90',\n",
    "            '86-92',\n",
    "            '86-93',\n",
    "            '86-96',\n",
    "            '86-100',\n",
    "            '86-113',\n",
    "            'C',\n",
    "            'D',\n",
    "            'F',\n",
    "            'UN16',\n",
    "            'W1',\n",
    "            'W8',\n",
    "            'W43',\n",
    "            'W55',\n",
    "            'W63',\n",
    "            'W69',\n",
    "            'W70',\n",
    "            'W72',\n",
    "            'W74',\n",
    "            'W77',\n",
    "            'X5',\n",
    "            'X12',\n",
    "            'Y2',\n",
    "            'Y7',\n",
    "            'Y11',\n",
    "            'Y12',\n",
    "            'Y14',\n",
    "            'Y15',\n",
    "            'Y22',\n",
    "            'Y28',\n",
    "            'Y32',\n",
    "            'Y34',\n",
    "            'Y39',\n",
    "            'Y45',\n",
    "            'Y114',\n",
    "            'Y123',\n",
    "            'Y126',\n",
    "            'Y127',\n",
    "            'Y128',\n",
    "            'Y135',\n",
    "            'Y148',\n",
    "            'Y149']\n",
    "ref = '86-95'\n",
    "path_to_models = './necks_registered/'\n",
    "path_to_ref = './neck_reference/'\n",
    "save_distances = True"
   ]
  },
  {
   "cell_type": "code",
   "execution_count": 23,
   "metadata": {},
   "outputs": [],
   "source": [
    "ref_csv_path = './neck_reference_cleaned/YA7_' + ref + '_neck.csv'"
   ]
  },
  {
   "cell_type": "code",
   "execution_count": 8,
   "metadata": {},
   "outputs": [
    {
     "name": "stdout",
     "output_type": "stream",
     "text": [
      "83-2\n",
      "84-1\n",
      "84-3\n",
      "84-10\n",
      "86-38\n",
      "86-45\n",
      "86-75\n",
      "86-85\n",
      "86-90\n",
      "86-92\n",
      "86-93\n",
      "86-96\n",
      "86-100\n",
      "86-113\n",
      "C\n",
      "D\n",
      "F\n",
      "UN16\n",
      "W1\n",
      "W8\n",
      "W43\n",
      "W55\n",
      "W63\n",
      "W69\n",
      "W70\n",
      "W72\n",
      "W74\n",
      "W77\n",
      "X5\n",
      "X12\n",
      "Y2\n",
      "Y7\n",
      "Y11\n",
      "Y12\n",
      "Y14\n",
      "Y15\n",
      "Y22\n",
      "Y28\n",
      "Y32\n",
      "Y34\n",
      "Y39\n",
      "Y45\n",
      "Y114\n",
      "Y123\n",
      "Y126\n",
      "Y127\n",
      "Y128\n",
      "Y135\n",
      "Y148\n",
      "Y149\n"
     ]
    }
   ],
   "source": [
    "average_distances = []\n",
    "stdev_distances = []\n",
    "for model in compare:\n",
    "    \n",
    "    print(model) # so the user can see which segment the code is working on\n",
    "    \n",
    "    model_csv_path = './necks_registered_cleaned/YA7_' + model + '_neck.csv'\n",
    "    dist_path = './necks_distances/' + ref + '_' + model + '_distances.csv'\n",
    "    \n",
    "    average_distance, stdev_distance = util.get_avg_cc_dist(ref_csv_path, model_csv_path, save_distances, dist_path)\n",
    "    \n",
    "    average_distances.append(average_distance)\n",
    "    stdev_distances.append(stdev_distance)"
   ]
  },
  {
   "cell_type": "markdown",
   "metadata": {},
   "source": [
    "# Morphological difference from 86-95 across the dataset"
   ]
  },
  {
   "cell_type": "code",
   "execution_count": 24,
   "metadata": {},
   "outputs": [],
   "source": [
    "average_distances = []\n",
    "stdev_distances = []\n",
    "for model in compare:\n",
    "    dist_path = './necks_distances/' + ref + '_' + model + '_distances.csv'\n",
    "    distances = np.genfromtxt(dist_path, delimiter=',')\n",
    "    average_distances.append(np.mean(distances))\n",
    "    stdev_distances.append(np.std(distances))"
   ]
  },
  {
   "cell_type": "code",
   "execution_count": 25,
   "metadata": {},
   "outputs": [
    {
     "data": {
      "image/png": "[encoded data removed]",
      "text/plain": [
       "<Figure size 1080x432 with 1 Axes>"
      ]
     },
     "metadata": {
      "needs_background": "light"
     },
     "output_type": "display_data"
    }
   ],
   "source": [
    "# order the compared amphoras by avg NND to ref amphora\n",
    "compare_sorted = [x for _,x in sorted(zip(average_distances, compare))]\n",
    "average_distances_sorted = sorted(average_distances)\n",
    "\n",
    "fig, ax = plt.subplots(figsize = (15, 6))\n",
    "x_pos = np.arange(len(compare_sorted))\n",
    "ax.bar(x_pos, average_distances_sorted, color='#412100')\n",
    "ax.set_xticks(x_pos)\n",
    "ax.set_xticklabels(compare_sorted)\n",
    "ax.set_xlabel('Compared with 86-95')\n",
    "ax.set_ylabel('Average point-to-nearest-neighbor distance [mm]')\n",
    "ax.set_title('Morphological Difference (NND) of Neck from 86-95')\n",
    "plt.xticks(rotation='vertical')\n",
    "plt.show()"
   ]
  },
  {
   "cell_type": "markdown",
   "metadata": {},
   "source": [
    "# Compare with group data"
   ]
  },
  {
   "cell_type": "markdown",
   "metadata": {},
   "source": [
    "#### Load data"
   ]
  },
  {
   "cell_type": "code",
   "execution_count": 26,
   "metadata": {},
   "outputs": [
    {
     "name": "stdout",
     "output_type": "stream",
     "text": [
      "                                                    group\n",
      "tag                                                      \n",
      "83/2                Spiral combed - main group - ring lip\n",
      "84/1                           Spiral combed - main group\n",
      "84/3                           Spiral combed - main group\n",
      "84/10                          Spiral combed - main group\n",
      "86/38               Spiral combed - main group - ring lip\n",
      "86/45                          Spiral combed - main group\n",
      "86/75                          Spiral combed - main group\n",
      "86/85                          Spiral combed - main group\n",
      "86/90                          Spiral combed - fractional\n",
      "86/92                          Spiral combed - main group\n",
      "86/93                          Spiral combed - main group\n",
      "86/96                Wide band of combing/squared handles\n",
      "86/100                         Spiral combed - main group\n",
      "86/113                         Spiral combed - main group\n",
      "C       Spiral combed - massive neck, massive diagonal...\n",
      "D       Spiral combed - massive neck, massive diagonal...\n",
      "F                                Spiral combed - outlier?\n",
      "UN16                           Spiral combed - main group\n",
      "W1                             Spiral combed - main group\n",
      "W8                   Wide band of combing/squared handles\n",
      "W43                            Spiral combed - main group\n",
      "W55                            Spiral combed - main group\n",
      "W63     Spiral combed - massive neck, massive vertical...\n",
      "W69                            Spiral combed - main group\n",
      "W70                            Spiral combed - main group\n",
      "W72                            Spiral combed - fractional\n",
      "W74                            Spiral combed - fractional\n",
      "W77                            Spiral combed - fractional\n",
      "X5                   Wide band of combing/squared handles\n",
      "X12                  Wide band of combing/squared handles\n",
      "Y2                   Wide band of combing/squared handles\n",
      "Y7                             Spiral combed - main group\n",
      "Y11                            Spiral combed - main group\n",
      "Y12                  Wide band of combing/squared handles\n",
      "Y14                            Spiral combed - main group\n",
      "Y15                            Spiral combed - main group\n",
      "Y22                            Spiral combed - main group\n",
      "Y28                 Spiral combed - main group - ring lip\n",
      "Y32                            Spiral combed - main group\n",
      "Y34                  Wide band of combing/squared handles\n",
      "Y39     Spiral combed - massive neck, massive vertical...\n",
      "Y45                            Spiral combed - main group\n",
      "Y114                           Spiral combed - main group\n",
      "Y123                           Spiral combed - main group\n",
      "Y126                           Spiral combed - main group\n",
      "Y127                           Spiral combed - main group\n",
      "Y128                           Spiral combed - main group\n",
      "Y135                           Spiral combed - fractional\n",
      "Y148                           Spiral combed - fractional\n",
      "Y149                           Spiral combed - fractional\n"
     ]
    }
   ],
   "source": [
    "import pandas as pd\n",
    "group_data = pd.read_csv('necks_group_data.csv', index_col=0)\n",
    "print(group_data)"
   ]
  },
  {
   "cell_type": "markdown",
   "metadata": {},
   "source": [
    "#### Assign a color to each group."
   ]
  },
  {
   "cell_type": "code",
   "execution_count": 27,
   "metadata": {},
   "outputs": [],
   "source": [
    "color_dict = {'Spiral combed - main group': '#412100', \n",
    "              'Spiral combed - main group - ring lip': 'xkcd:violet',\n",
    "              'Spiral combed - fractional': 'xkcd:tan',\n",
    "              'Spiral combed - massive neck, massive diagonal handles': 'xkcd:red',\n",
    "              'Spiral combed - massive neck, massive vertical handles': 'xkcd:orange',\n",
    "              'Spiral combed - outlier?': 'xkcd:green',\n",
    "              'Wide band of combing/squared handles': 'xkcd:blue' \n",
    "             }"
   ]
  },
  {
   "cell_type": "code",
   "execution_count": 29,
   "metadata": {},
   "outputs": [],
   "source": [
    "labels = list(group_data.group)\n",
    "colors = [color_dict[label] for label in labels]"
   ]
  },
  {
   "cell_type": "code",
   "execution_count": 30,
   "metadata": {},
   "outputs": [
    {
     "name": "stdout",
     "output_type": "stream",
     "text": [
      "83-2 \t xkcd:violet \t Spiral combed - main group - ring lip\n",
      "84-1 \t #412100 \t Spiral combed - main group\n",
      "84-3 \t #412100 \t Spiral combed - main group\n",
      "84-10 \t #412100 \t Spiral combed - main group\n",
      "86-38 \t xkcd:violet \t Spiral combed - main group - ring lip\n",
      "86-45 \t #412100 \t Spiral combed - main group\n",
      "86-75 \t #412100 \t Spiral combed - main group\n",
      "86-85 \t #412100 \t Spiral combed - main group\n",
      "86-90 \t xkcd:tan \t Spiral combed - fractional\n",
      "86-92 \t #412100 \t Spiral combed - main group\n",
      "86-93 \t #412100 \t Spiral combed - main group\n",
      "86-96 \t xkcd:blue \t Wide band of combing/squared handles\n",
      "86-100 \t #412100 \t Spiral combed - main group\n",
      "86-113 \t #412100 \t Spiral combed - main group\n",
      "C \t xkcd:red \t Spiral combed - massive neck, massive diagonal handles\n",
      "D \t xkcd:red \t Spiral combed - massive neck, massive diagonal handles\n",
      "F \t xkcd:green \t Spiral combed - outlier?\n",
      "UN16 \t #412100 \t Spiral combed - main group\n",
      "W1 \t #412100 \t Spiral combed - main group\n",
      "W8 \t xkcd:blue \t Wide band of combing/squared handles\n",
      "W43 \t #412100 \t Spiral combed - main group\n",
      "W55 \t #412100 \t Spiral combed - main group\n",
      "W63 \t xkcd:orange \t Spiral combed - massive neck, massive vertical handles\n",
      "W69 \t #412100 \t Spiral combed - main group\n",
      "W70 \t #412100 \t Spiral combed - main group\n",
      "W72 \t xkcd:tan \t Spiral combed - fractional\n",
      "W74 \t xkcd:tan \t Spiral combed - fractional\n",
      "W77 \t xkcd:tan \t Spiral combed - fractional\n",
      "X5 \t xkcd:blue \t Wide band of combing/squared handles\n",
      "X12 \t xkcd:blue \t Wide band of combing/squared handles\n",
      "Y2 \t xkcd:blue \t Wide band of combing/squared handles\n",
      "Y7 \t #412100 \t Spiral combed - main group\n",
      "Y11 \t #412100 \t Spiral combed - main group\n",
      "Y12 \t xkcd:blue \t Wide band of combing/squared handles\n",
      "Y14 \t #412100 \t Spiral combed - main group\n",
      "Y15 \t #412100 \t Spiral combed - main group\n",
      "Y22 \t #412100 \t Spiral combed - main group\n",
      "Y28 \t xkcd:violet \t Spiral combed - main group - ring lip\n",
      "Y32 \t #412100 \t Spiral combed - main group\n",
      "Y34 \t xkcd:blue \t Wide band of combing/squared handles\n",
      "Y39 \t xkcd:orange \t Spiral combed - massive neck, massive vertical handles\n",
      "Y45 \t #412100 \t Spiral combed - main group\n",
      "Y114 \t #412100 \t Spiral combed - main group\n",
      "Y123 \t #412100 \t Spiral combed - main group\n",
      "Y126 \t #412100 \t Spiral combed - main group\n",
      "Y127 \t #412100 \t Spiral combed - main group\n",
      "Y128 \t #412100 \t Spiral combed - main group\n",
      "Y135 \t xkcd:tan \t Spiral combed - fractional\n",
      "Y148 \t xkcd:tan \t Spiral combed - fractional\n",
      "Y149 \t xkcd:tan \t Spiral combed - fractional\n"
     ]
    }
   ],
   "source": [
    "for model, label, color in zip(compare, labels, colors):\n",
    "    print(model, '\\t', color, '\\t', label)"
   ]
  },
  {
   "cell_type": "code",
   "execution_count": 31,
   "metadata": {},
   "outputs": [
    {
     "data": {
      "image/png": "[encoded data removed]",
      "text/plain": [
       "<Figure size 1080x432 with 1 Axes>"
      ]
     },
     "metadata": {
      "needs_background": "light"
     },
     "output_type": "display_data"
    }
   ],
   "source": [
    "from matplotlib.lines import Line2D\n",
    "\n",
    "# order the compared amphoras by avg NND to ref amphora\n",
    "compare_sorted = [x for _,x in sorted(zip(average_distances, compare))]\n",
    "average_distances_sorted = sorted(average_distances)\n",
    "colors_sorted = [x for _,x in sorted(zip(average_distances, colors))]\n",
    "\n",
    "fig, ax = plt.subplots(figsize = (15, 6))\n",
    "x_pos = np.arange(len(compare_sorted))\n",
    "ax.bar(x_pos, average_distances_sorted, color=colors_sorted)\n",
    "ax.set_xticks(x_pos)\n",
    "ax.set_xticklabels(compare_sorted)\n",
    "ax.set_xlabel('Compared with 86-95')\n",
    "ax.set_ylabel('Average point-to-nearest-neighbor distance [mm]')\n",
    "ax.set_title('Morphological Difference (NND) of Neck from 86-95')\n",
    "plt.xticks(rotation='vertical')\n",
    "\n",
    "handle_list = []\n",
    "for label in color_dict:\n",
    "    handle_list.append(Line2D([0],[0], marker='o', color='w', markersize=10,\n",
    "                              markerfacecolor=color_dict[label], label=label))\n",
    "\n",
    "plt.legend(handles=handle_list, loc='upper left')\n",
    "\n",
    "plt.show()"
   ]
  },
  {
   "cell_type": "code",
   "execution_count": 10,
   "metadata": {},
   "outputs": [
    {
     "name": "stdout",
     "output_type": "stream",
     "text": [
      "\n",
      "model\taverage distance from 86-95 [mm]\n",
      "\n",
      "83-2 \t 5.580486657086651\n",
      "84-1 \t 5.6928169582619255\n",
      "84-3 \t 4.6324157693515975\n",
      "84-10 \t 3.876314815774073\n",
      "86-38 \t 4.018187951710473\n",
      "86-45 \t 6.021594839551622\n",
      "86-75 \t 4.725978622025286\n",
      "86-85 \t 4.943311009952149\n",
      "86-90 \t 4.775260491511707\n",
      "86-92 \t 3.9105410699594905\n",
      "86-93 \t 3.581544274356101\n",
      "86-96 \t 4.578253416773869\n",
      "86-100 \t 7.736063989299996\n",
      "86-113 \t 8.449081690555817\n",
      "C \t 8.79145339336217\n",
      "D \t 8.347776997011835\n",
      "F \t 7.277292249900221\n",
      "UN16 \t 6.561326077861014\n",
      "W1 \t 6.371404510576429\n",
      "W8 \t 6.547782622051691\n",
      "W43 \t 4.253008923711413\n",
      "W55 \t 3.4191659386837285\n",
      "W63 \t 5.75448061999456\n",
      "W69 \t 7.2960938721916\n",
      "W70 \t 3.2571481880994804\n",
      "W72 \t 3.835657468112511\n",
      "W74 \t 6.724685836761473\n",
      "W77 \t 4.75665765832877\n",
      "X5 \t 4.501309316197456\n",
      "X12 \t 4.357138247796213\n",
      "Y2 \t 5.774584793833351\n",
      "Y7 \t 7.081205185807906\n",
      "Y11 \t 5.061279939628233\n",
      "Y12 \t 5.636945890009195\n",
      "Y14 \t 6.375588324645723\n",
      "Y15 \t 8.535877868154056\n",
      "Y22 \t 10.00872659709026\n",
      "Y28 \t 6.442057864995068\n",
      "Y32 \t 8.965029640137036\n",
      "Y34 \t 5.929178633012973\n",
      "Y39 \t 4.0414693974795135\n",
      "Y45 \t 6.034170615317297\n",
      "Y114 \t 4.331438991553468\n",
      "Y123 \t 6.537059098278327\n",
      "Y126 \t 5.443326650926093\n",
      "Y127 \t 5.393762590394911\n",
      "Y128 \t 6.512886701799909\n",
      "Y135 \t 6.541161988665631\n",
      "Y148 \t 6.571646822772032\n",
      "Y149 \t 4.285377548781467\n"
     ]
    }
   ],
   "source": [
    "print('\\nmodel\\taverage distance from %s [mm]\\n' % ref)\n",
    "for model, average_distance in zip(compare, average_distances):\n",
    "    print(model, '\\t', average_distance)"
   ]
  },
  {
   "cell_type": "code",
   "execution_count": null,
   "metadata": {},
   "outputs": [],
   "source": []
  }
 ],
 "metadata": {
  "kernelspec": {
   "display_name": "Python 3",
   "language": "python",
   "name": "python3"
  },
  "language_info": {
   "codemirror_mode": {
    "name": "ipython",
    "version": 3
   },
   "file_extension": ".py",
   "mimetype": "text/x-python",
   "name": "python",
   "nbconvert_exporter": "python",
   "pygments_lexer": "ipython3",
   "version": "3.8.2"
  }
 },
 "nbformat": 4,
 "nbformat_minor": 2
}
