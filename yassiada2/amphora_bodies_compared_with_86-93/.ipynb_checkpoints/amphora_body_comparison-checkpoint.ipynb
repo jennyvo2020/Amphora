{
 "cells": [
  {
   "cell_type": "markdown",
   "metadata": {},
   "source": [
    "# Objective\n",
    "\n",
    "Execute shape comparison of amphora bodies to answer research questions outlined below, in Results.\n",
    "\n",
    "# Results\n",
    "\n",
    "Scroll through the notebook for visualizations/plots.\n",
    "\n",
    "### General observations regarding each of the groups, and addressing James's and Justin's specific questions\n",
    "\n",
    "#### Spiral comb - main group (n = 29)\n",
    "- Questions James had: Do the amphora bodies of this group cluster in terms of shape difference? In particular, do all the amphoras in the \"spiral combed - main group\" appear to be standardized?\n",
    "    - Average NND from the reference jar for this group varied from 3.8 to 11.7 mm \n",
    "    - This is substantially less than the fractional jars\n",
    "\n",
    "#### Wide band of combing/squared handles (n = 7)\n",
    "- Questions James and Justin had: James - Do the observed differences in decoration and handle shape which characterize the \"wide band combing-square handle\" group correspond to significant differences in body size and shape in comparison with other members of the spiral comb group? Justin - Can the approach identify the seven \"wide band combing-square handle\" amphoras as outliers (and if indeed they are outliers, or if they’re essentially morphologically the same in the body save for the combing)? (Neck tbd.)\n",
    "    - The observed differences in decoration and handle shape which characterize the \"wide band combing-square handle\" group do ****not**** seem to correspond to significant differences in body size and shape in comparison with members of the spiral combed main group. Shape difference with the reference jar is varied and literally spans the entire range. Some of these jars deviate in shape from the average jar (86-93) as little as 2.9 mm on average, others 8.26 cm on average.\n",
    "    - This is well within the range of the spiral combed main group (NND = 3.8 to 11.7 mm ).\n",
    "- Question James had: If there is an observable difference, is there a clear separation? Or are there amphoras that sit ambiguously between the two groups?\n",
    "    - The results do not show observable difference nor clear separation between the \"wide band combing-square handle\" jars and the other spiral combed jars, in terms of body shape difference with the reference jar.\n",
    "    \n",
    "#### Spiral comb - fractional (n = 6)\n",
    "- Consistently very large shape difference with the reference jar (27.6 to 39.5 mm).\n",
    "    \n",
    "#### Spiral comb - massive neck, massive diagonal handles (n = 2)\n",
    "- Both have a large shape difference from the reference jar, with NND on the upper end of and slightly above the main group's range (9.12 and 14.1 mm).\n",
    "\n",
    "#### Spiral comb - massive neck, massive vertical handles (n = 2)\n",
    "- Both are well within the NND range of the main group spiral combed jars (4.4 and 6.3 mm).\n",
    "\n",
    "#### Spiral combed - main group - ring lip (n = 3)\n",
    "\n",
    "- All have a large shape difference from the reference jar, with NND on the upper end of the main group's range (7.8 to 9.99 mm).\n",
    "\n",
    "#### Spiral combed - \"outlier?\" (n = 1)\n",
    "- Type in the spreadsheet indicates that it might be an outlier.\n",
    "- Doesn't seem to be an outlier in any regard as far as body shape goes (6.9 mm).\n",
    "\n",
    "### Addressing Justin's overarching question\n",
    "\n",
    "- Are the typological identifications based on handle shape and body decoration meaningful?\n",
    "    - It seems that the typological identifications based on handle shape and body decoration might be meaningful for jars with massive necks, especially the ones with massive diagonal handles. \n",
    "    \n",
    "# Question for Justin and James\n",
    "\n",
    "- Is it possible that the process of attaching massive diagonal handles somehow caused substantial deformation to the bodies in some way?"
   ]
  },
  {
   "cell_type": "code",
   "execution_count": 1,
   "metadata": {},
   "outputs": [],
   "source": [
    "import sys\n",
    "sys.path.insert(0,'../')\n",
    "import util\n",
    "import matplotlib.pyplot as plt\n",
    "import numpy as np\n",
    "%load_ext autoreload\n",
    "%autoreload 2"
   ]
  },
  {
   "cell_type": "markdown",
   "metadata": {},
   "source": [
    "# Inputs"
   ]
  },
  {
   "cell_type": "code",
   "execution_count": 2,
   "metadata": {},
   "outputs": [],
   "source": [
    "compare = ['83-2',\n",
    "            '84-1',\n",
    "            '84-3',\n",
    "            '84-10',\n",
    "            '86-38',\n",
    "            '86-75',\n",
    "            '86-85',\n",
    "            '86-90',\n",
    "            '86-92',\n",
    "            '86-95',\n",
    "            '86-96',\n",
    "            '86-99',\n",
    "            '86-100',\n",
    "            '86-113',\n",
    "            'C',\n",
    "            'D',\n",
    "            'F',\n",
    "            'UN16',\n",
    "            'W1',\n",
    "            'W8',\n",
    "            'W43',\n",
    "            'W55',\n",
    "            'W63',\n",
    "            'W69',\n",
    "            'W70',\n",
    "            'W74',\n",
    "            'W77',\n",
    "            'X5',\n",
    "            'X12',\n",
    "            'Y2',\n",
    "            'Y7',\n",
    "            'Y11',\n",
    "            'Y12',\n",
    "            'Y14',\n",
    "            'Y15',\n",
    "            'Y22',\n",
    "            'Y28',\n",
    "            'Y32',\n",
    "            'Y34',\n",
    "            'Y39',\n",
    "            'Y45',\n",
    "            'Y52',\n",
    "            'Y114',\n",
    "            'Y123',\n",
    "            'Y126',\n",
    "            'Y127',\n",
    "            'Y128',\n",
    "            'Y135',\n",
    "            'Y148',\n",
    "            'Y149']\n",
    "ref = '86-93'\n",
    "path_to_models = './bodies_registered/'\n",
    "path_to_ref = './body_reference/'\n",
    "save_distances = True\n",
    "ref_csv_path = './body_reference_cleaned/YA7_' + ref + '_body.csv'"
   ]
  },
  {
   "cell_type": "markdown",
   "metadata": {},
   "source": [
    "# Comparison"
   ]
  },
  {
   "cell_type": "code",
   "execution_count": 4,
   "metadata": {},
   "outputs": [
    {
     "name": "stdout",
     "output_type": "stream",
     "text": [
      "83-2\n",
      "84-1\n",
      "84-3\n",
      "84-10\n",
      "86-38\n",
      "86-75\n",
      "86-85\n",
      "86-90\n",
      "86-92\n",
      "86-95\n",
      "86-96\n",
      "86-99\n",
      "86-100\n",
      "86-113\n",
      "C\n",
      "D\n",
      "F\n",
      "UN16\n",
      "W1\n",
      "W8\n",
      "W43\n",
      "W55\n",
      "W63\n",
      "W69\n",
      "W70\n",
      "W74\n",
      "W77\n",
      "X5\n",
      "X12\n",
      "Y2\n",
      "Y7\n",
      "Y11\n",
      "Y12\n",
      "Y14\n",
      "Y15\n",
      "Y22\n",
      "Y28\n",
      "Y32\n",
      "Y34\n",
      "Y39\n",
      "Y45\n",
      "Y52\n",
      "Y114\n",
      "Y123\n",
      "Y126\n",
      "Y127\n",
      "Y128\n",
      "Y135\n",
      "Y148\n",
      "Y149\n"
     ]
    }
   ],
   "source": [
    "average_distances = []\n",
    "stdev_distances = []\n",
    "for model in compare:\n",
    "    \n",
    "    print(model) # so the user can see which segment the code is working on\n",
    "    \n",
    "    model_csv_path = './bodies_registered_cleaned/YA7_' + model + '_body.csv'\n",
    "    dist_path = './bodies_distances/' + ref + '_' + model + '_distances.csv'\n",
    "    \n",
    "    average_distance, stdev_distance = util.get_avg_cc_dist(ref_csv_path, model_csv_path, save_distances, dist_path)\n",
    "    \n",
    "    average_distances.append(average_distance)\n",
    "    stdev_distances.append(stdev_distance)"
   ]
  },
  {
   "cell_type": "code",
   "execution_count": 3,
   "metadata": {},
   "outputs": [
    {
     "name": "stdout",
     "output_type": "stream",
     "text": [
      "83-2\n",
      "84-1\n",
      "84-3\n",
      "84-10\n",
      "86-38\n",
      "86-75\n",
      "86-85\n",
      "86-90\n",
      "86-92\n",
      "86-95\n",
      "86-96\n",
      "86-99\n",
      "86-100\n",
      "86-113\n",
      "C\n",
      "D\n",
      "F\n",
      "UN16\n",
      "W1\n",
      "W8\n",
      "W43\n",
      "W55\n",
      "W63\n",
      "W69\n",
      "W70\n",
      "W74\n",
      "W77\n",
      "X5\n",
      "X12\n",
      "Y2\n",
      "Y7\n",
      "Y11\n",
      "Y12\n",
      "Y14\n",
      "Y15\n",
      "Y22\n",
      "Y28\n",
      "Y32\n",
      "Y34\n",
      "Y39\n",
      "Y45\n",
      "Y52\n",
      "Y114\n",
      "Y123\n",
      "Y126\n",
      "Y127\n",
      "Y128\n",
      "Y135\n",
      "Y148\n",
      "Y149\n"
     ]
    }
   ],
   "source": [
    "average_distances = []\n",
    "stdev_distances = []\n",
    "\n",
    "for model in compare:\n",
    "    \n",
    "    print(model)\n",
    "    \n",
    "    dist_path = './bodies_distances/' + ref + '_' + model + '_distances.csv'\n",
    "    \n",
    "    distances = np.genfromtxt(dist_path, delimiter=',')\n",
    "    \n",
    "    average_distances.append(np.mean(distances))\n",
    "    stdev_distances.append(np.std(distances))"
   ]
  },
  {
   "cell_type": "markdown",
   "metadata": {},
   "source": [
    "# Morphological difference with 86-93 across the dataset"
   ]
  },
  {
   "cell_type": "code",
   "execution_count": 4,
   "metadata": {},
   "outputs": [
    {
     "data": {
      "image/png": "[encoded data removed]",
      "text/plain": [
       "<Figure size 1080x432 with 1 Axes>"
      ]
     },
     "metadata": {
      "needs_background": "light"
     },
     "output_type": "display_data"
    }
   ],
   "source": [
    "# order the compared amphoras by avg NND to ref amphora\n",
    "compare_sorted = [x for _,x in sorted(zip(average_distances, compare))]\n",
    "average_distances_sorted = sorted(average_distances)\n",
    "\n",
    "fig, ax = plt.subplots(figsize = (15, 6))\n",
    "x_pos = np.arange(len(compare_sorted))\n",
    "ax.bar(x_pos, average_distances_sorted, color='#412100')\n",
    "ax.set_xticks(x_pos)\n",
    "ax.set_xticklabels(compare_sorted)\n",
    "ax.set_xlabel('Compared with 86-93')\n",
    "ax.set_ylabel('Average point-to-nearest-neighbor distance [mm]')\n",
    "ax.set_title('Morphological Difference (NND) of Body from 86-93')\n",
    "plt.xticks(rotation='vertical')\n",
    "plt.show()"
   ]
  },
  {
   "cell_type": "markdown",
   "metadata": {},
   "source": [
    "# Coloring by group"
   ]
  },
  {
   "cell_type": "markdown",
   "metadata": {},
   "source": [
    "#### Load data"
   ]
  },
  {
   "cell_type": "code",
   "execution_count": 8,
   "metadata": {},
   "outputs": [
    {
     "name": "stdout",
     "output_type": "stream",
     "text": [
      "                                                    group\n",
      "label                                                    \n",
      "83-2                Spiral combed - main group - ring lip\n",
      "84-1                           Spiral combed - main group\n",
      "84-3                           Spiral combed - main group\n",
      "84-10                          Spiral combed - main group\n",
      "86-38               Spiral combed - main group - ring lip\n",
      "86-75                          Spiral combed - main group\n",
      "86-85                          Spiral combed - main group\n",
      "86-90                          Spiral combed - fractional\n",
      "86-92                          Spiral combed - main group\n",
      "86-95                          Spiral combed - main group\n",
      "86-96                Wide band of combing/squared handles\n",
      "86-99                          Spiral combed - main group\n",
      "86-100                         Spiral combed - main group\n",
      "86-113                         Spiral combed - main group\n",
      "C       Spiral combed - massive neck, massive diagonal...\n",
      "D       Spiral combed - massive neck, massive diagonal...\n",
      "F                                Spiral combed - outlier?\n",
      "UN16                           Spiral combed - main group\n",
      "W1                             Spiral combed - main group\n",
      "W8                   Wide band of combing/squared handles\n",
      "W43                            Spiral combed - main group\n",
      "W55                            Spiral combed - main group\n",
      "W63     Spiral combed - massive neck, massive vertical...\n",
      "W69                            Spiral combed - main group\n",
      "W70                            Spiral combed - main group\n",
      "W74                            Spiral combed - fractional\n",
      "W77                            Spiral combed - fractional\n",
      "X5                   Wide band of combing/squared handles\n",
      "X12                  Wide band of combing/squared handles\n",
      "Y2                   Wide band of combing/squared handles\n",
      "Y7                             Spiral combed - main group\n",
      "Y11                            Spiral combed - main group\n",
      "Y12                  Wide band of combing/squared handles\n",
      "Y14                            Spiral combed - main group\n",
      "Y15                            Spiral combed - main group\n",
      "Y22                            Spiral combed - main group\n",
      "Y28                 Spiral combed - main group - ring lip\n",
      "Y32                            Spiral combed - main group\n",
      "Y34                  Wide band of combing/squared handles\n",
      "Y39     Spiral combed - massive neck, massive vertical...\n",
      "Y45                            Spiral combed - main group\n",
      "Y52                            Spiral combed - main group\n",
      "Y114                           Spiral combed - main group\n",
      "Y123                           Spiral combed - main group\n",
      "Y126                           Spiral combed - main group\n",
      "Y127                           Spiral combed - main group\n",
      "Y128                           Spiral combed - main group\n",
      "Y135                           Spiral combed - fractional\n",
      "Y148                           Spiral combed - fractional\n",
      "Y149                           Spiral combed - fractional\n"
     ]
    }
   ],
   "source": [
    "import pandas as pd\n",
    "group_data = pd.read_csv('bodies_group_data.csv', index_col=0)\n",
    "print(group_data)"
   ]
  },
  {
   "cell_type": "markdown",
   "metadata": {},
   "source": [
    "#### Assign a color to each group."
   ]
  },
  {
   "cell_type": "code",
   "execution_count": 9,
   "metadata": {},
   "outputs": [],
   "source": [
    "color_dict = {'Spiral combed - main group': '#412100',\n",
    "              'Spiral combed - main group - ring lip': 'xkcd:violet',\n",
    "              'Spiral combed - fractional': 'xkcd:tan',\n",
    "              'Spiral combed - massive neck, massive diagonal handles': 'xkcd:red',\n",
    "              'Spiral combed - massive neck, massive vertical handles': 'xkcd:orange',\n",
    "              'Spiral combed - outlier?': 'xkcd:green',\n",
    "              'Wide band of combing/squared handles': 'xkcd:blue' \n",
    "             }"
   ]
  },
  {
   "cell_type": "code",
   "execution_count": 10,
   "metadata": {},
   "outputs": [],
   "source": [
    "labels = list(group_data.group)\n",
    "colors = [color_dict[label] for label in labels]"
   ]
  },
  {
   "cell_type": "code",
   "execution_count": 11,
   "metadata": {
    "scrolled": false
   },
   "outputs": [
    {
     "data": {
      "image/png": "[encoded data removed]",
      "text/plain": [
       "<Figure size 1080x432 with 1 Axes>"
      ]
     },
     "metadata": {
      "needs_background": "light"
     },
     "output_type": "display_data"
    }
   ],
   "source": [
    "from matplotlib.lines import Line2D\n",
    "\n",
    "# order the compared amphoras by avg NND to ref amphora\n",
    "compare_sorted = [x for _,x in sorted(zip(average_distances, compare))]\n",
    "average_distances_sorted = sorted(average_distances)\n",
    "colors_sorted = [x for _,x in sorted(zip(average_distances, colors))]\n",
    "\n",
    "fig, ax = plt.subplots(figsize = (15, 6))\n",
    "x_pos = np.arange(len(compare_sorted))\n",
    "ax.bar(x_pos, average_distances_sorted, color=colors_sorted)\n",
    "ax.set_xticks(x_pos)\n",
    "ax.set_xticklabels(compare_sorted)\n",
    "ax.set_xlabel('Compared with 86-93')\n",
    "ax.set_ylabel('Average point-to-nearest-neighbor distance [mm]')\n",
    "ax.set_title('Morphological Difference (NND) of Body from 86-93')\n",
    "plt.xticks(rotation='vertical')\n",
    "\n",
    "handle_list = []\n",
    "for label in color_dict:\n",
    "    handle_list.append(Line2D([0],[0], marker='o', color='w', markersize=10,\n",
    "                              markerfacecolor=color_dict[label], label=label))\n",
    "\n",
    "plt.legend(handles=handle_list, loc='upper left')\n",
    "\n",
    "plt.show()"
   ]
  },
  {
   "cell_type": "markdown",
   "metadata": {},
   "source": [
    "#### Note: The two plots in this notebook are the same. The second one is simply colorized for ease of interpretation."
   ]
  },
  {
   "cell_type": "code",
   "execution_count": 12,
   "metadata": {},
   "outputs": [
    {
     "name": "stdout",
     "output_type": "stream",
     "text": [
      "\n",
      "model\taverage distance from 86-93 [mm]\n",
      "\n",
      "83-2 \t 9.990988869644735\n",
      "84-1 \t 5.6191969241090005\n",
      "84-3 \t 4.405596347199213\n",
      "84-10 \t 3.977993031969717\n",
      "86-38 \t 7.820171253989147\n",
      "86-75 \t 3.8460478707494588\n",
      "86-85 \t 6.77964216498324\n",
      "86-90 \t 27.589254703459215\n",
      "86-92 \t 5.558637011421599\n",
      "86-95 \t 4.460995194640852\n",
      "86-96 \t 4.305866210636059\n",
      "86-99 \t 6.454599655521606\n",
      "86-100 \t 4.303266005723082\n",
      "86-113 \t 5.155962025277543\n",
      "C \t 14.08033469154282\n",
      "D \t 9.125578561804343\n",
      "F \t 6.932331705726893\n",
      "UN16 \t 5.169707674141549\n",
      "W1 \t 11.702556657951869\n",
      "W8 \t 4.919034529287366\n",
      "W43 \t 4.8274485687308735\n",
      "W55 \t 5.314955390034178\n",
      "W63 \t 6.315111236415471\n",
      "W69 \t 4.672501430971396\n",
      "W70 \t 7.396533446784523\n",
      "W74 \t 31.510115939744672\n",
      "W77 \t 39.47029516056326\n",
      "X5 \t 2.857304794500756\n",
      "X12 \t 7.338804471301285\n",
      "Y2 \t 8.284294425654908\n",
      "Y7 \t 4.059896856664813\n",
      "Y11 \t 8.095919421076843\n",
      "Y12 \t 6.113986712515126\n",
      "Y14 \t 3.985392696556207\n",
      "Y15 \t 4.369315516685378\n",
      "Y22 \t 5.000075673029956\n",
      "Y28 \t 7.9257791244428795\n",
      "Y32 \t 4.408602518021583\n",
      "Y34 \t 6.690559867964883\n",
      "Y39 \t 4.372551707823607\n",
      "Y45 \t 5.0167799485355085\n",
      "Y52 \t 8.320969923855941\n",
      "Y114 \t 4.899610110450867\n",
      "Y123 \t 4.6413654847495955\n",
      "Y126 \t 5.5717571316846675\n",
      "Y127 \t 6.88847749852235\n",
      "Y128 \t 4.428819199468613\n",
      "Y135 \t 37.67188184670969\n",
      "Y148 \t 28.75474780000472\n",
      "Y149 \t 35.26714476495619\n"
     ]
    }
   ],
   "source": [
    "print('\\nmodel\\taverage distance from %s [mm]\\n' % ref)\n",
    "for model, average_distance in zip( compare, average_distances):\n",
    "    print(model, '\\t', average_distance)"
   ]
  },
  {
   "cell_type": "code",
   "execution_count": null,
   "metadata": {},
   "outputs": [],
   "source": []
  }
 ],
 "metadata": {
  "kernelspec": {
   "display_name": "Python 3",
   "language": "python",
   "name": "python3"
  },
  "language_info": {
   "codemirror_mode": {
    "name": "ipython",
    "version": 3
   },
   "file_extension": ".py",
   "mimetype": "text/x-python",
   "name": "python",
   "nbconvert_exporter": "python",
   "pygments_lexer": "ipython3",
   "version": "3.8.2"
  }
 },
 "nbformat": 4,
 "nbformat_minor": 2
}
