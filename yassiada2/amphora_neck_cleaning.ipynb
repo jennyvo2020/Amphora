{
 "cells": [
  {
   "cell_type": "code",
   "execution_count": 1,
   "metadata": {},
   "outputs": [],
   "source": [
    "import util\n",
    "%load_ext autoreload\n",
    "%autoreload 2"
   ]
  },
  {
   "cell_type": "code",
   "execution_count": 8,
   "metadata": {},
   "outputs": [],
   "source": [
    "models = ['83-2',\n",
    "            '84-1',\n",
    "            '84-3',\n",
    "            '84-10',\n",
    "            '86-38',\n",
    "            '86-45',\n",
    "            '86-75',\n",
    "            '86-85',\n",
    "            '86-90',\n",
    "            '86-92',\n",
    "            '86-93',\n",
    "            '86-96',\n",
    "            '86-100',\n",
    "            '86-113',\n",
    "            'C',\n",
    "            'D',\n",
    "            'F',\n",
    "            'UN16',\n",
    "            'W1',\n",
    "            'W8',\n",
    "            'W43',\n",
    "            'W55',\n",
    "            'W63',\n",
    "            'W69',\n",
    "            'W70',\n",
    "            'W72',\n",
    "            'W74',\n",
    "            'W77',\n",
    "            'X5',\n",
    "            'X12',\n",
    "            'Y2',\n",
    "            'Y7',\n",
    "            'Y11',\n",
    "            'Y12',\n",
    "            'Y14',\n",
    "            'Y15',\n",
    "            'Y22',\n",
    "            'Y28',\n",
    "            'Y32',\n",
    "            'Y34',\n",
    "            'Y39',\n",
    "            'Y45',\n",
    "            'Y114',\n",
    "            'Y123',\n",
    "            'Y126',\n",
    "            'Y127',\n",
    "            'Y128',\n",
    "            'Y135',\n",
    "            'Y148',\n",
    "            'Y149']\n",
    "ref = '86-95'\n",
    "path_to_models = './necks_registered/'\n",
    "path_to_ref = './neck_reference/'\n",
    "save_nonoutliers = True    # whether or not to save csv files of point cloud coordinates with all outliers excluded.\n",
    "                           # Set True if these files do not yet exist, else False."
   ]
  },
  {
   "cell_type": "code",
   "execution_count": 12,
   "metadata": {},
   "outputs": [],
   "source": [
    "ref_path = path_to_ref + 'YA7_' + ref + '_obj/YA7_' + ref + '_neck.obj'\n",
    "ref_coords = util.obj_to_np(ref_path)\n",
    "ref_csv_path = './neck_reference_cleaned/YA7_' + ref + '_neck.csv'\n",
    "ref_non_outliers = util.get_nonoutliers(ref_coords, save_nonoutliers, ref_csv_path)"
   ]
  },
  {
   "cell_type": "code",
   "execution_count": 13,
   "metadata": {},
   "outputs": [
    {
     "name": "stdout",
     "output_type": "stream",
     "text": [
      "Now cleaning amphora 83-2 \n",
      "Now cleaning amphora 84-1 \n",
      "Now cleaning amphora 84-3 \n",
      "Now cleaning amphora 84-10 \n",
      "Now cleaning amphora 86-38 \n",
      "Now cleaning amphora 86-45 \n",
      "Now cleaning amphora 86-75 \n",
      "Now cleaning amphora 86-85 \n",
      "Now cleaning amphora 86-90 \n",
      "Now cleaning amphora 86-92 \n",
      "Now cleaning amphora 86-93 \n",
      "Now cleaning amphora 86-96 \n",
      "Now cleaning amphora 86-100 \n",
      "Now cleaning amphora 86-113 \n",
      "Now cleaning amphora C \n",
      "Now cleaning amphora D \n",
      "Now cleaning amphora F \n",
      "Now cleaning amphora UN16 \n",
      "Now cleaning amphora W1 \n",
      "Now cleaning amphora W8 \n",
      "Now cleaning amphora W43 \n",
      "Now cleaning amphora W55 \n",
      "Now cleaning amphora W63 \n",
      "Now cleaning amphora W69 \n",
      "Now cleaning amphora W70 \n",
      "Now cleaning amphora W72 \n",
      "Now cleaning amphora W74 \n",
      "Now cleaning amphora W77 \n",
      "Now cleaning amphora X5 \n",
      "Now cleaning amphora X12 \n",
      "Now cleaning amphora Y2 \n",
      "Now cleaning amphora Y7 \n",
      "Now cleaning amphora Y11 \n",
      "Now cleaning amphora Y12 \n",
      "Now cleaning amphora Y14 \n",
      "Now cleaning amphora Y15 \n",
      "Now cleaning amphora Y22 \n",
      "Now cleaning amphora Y28 \n",
      "Now cleaning amphora Y32 \n",
      "Now cleaning amphora Y34 \n",
      "Now cleaning amphora Y39 \n",
      "Now cleaning amphora Y45 \n",
      "Now cleaning amphora Y114 \n",
      "Now cleaning amphora Y123 \n",
      "Now cleaning amphora Y126 \n",
      "Now cleaning amphora Y127 \n",
      "Now cleaning amphora Y128 \n",
      "Now cleaning amphora Y135 \n",
      "Now cleaning amphora Y148 \n",
      "Now cleaning amphora Y149 \n"
     ]
    }
   ],
   "source": [
    "for model in models:\n",
    "    print('Now cleaning amphora %s ' % model) # Allows the user to see which model is being processed\n",
    "    model_path = path_to_models + 'YA7_' + model + '_neck.obj'\n",
    "    model_coords = util.obj_to_np(model_path)\n",
    "    model_csv_path = './necks_registered_cleaned/YA7_' + model + '_neck.csv'\n",
    "    model_non_outliers = util.get_nonoutliers(model_coords, save_nonoutliers, model_csv_path)"
   ]
  },
  {
   "cell_type": "code",
   "execution_count": null,
   "metadata": {},
   "outputs": [],
   "source": []
  }
 ],
 "metadata": {
  "kernelspec": {
   "display_name": "Python 3",
   "language": "python",
   "name": "python3"
  },
  "language_info": {
   "codemirror_mode": {
    "name": "ipython",
    "version": 3
   },
   "file_extension": ".py",
   "mimetype": "text/x-python",
   "name": "python",
   "nbconvert_exporter": "python",
   "pygments_lexer": "ipython3",
   "version": "3.8.2"
  }
 },
 "nbformat": 4,
 "nbformat_minor": 2
}
