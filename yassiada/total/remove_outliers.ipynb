{
 "cells": [
  {
   "cell_type": "markdown",
   "metadata": {},
   "source": [
    "# Full Amphora Comparative Shape Analysis Part 1\n",
    "\n",
    "This code executes **outlier detection and removal** on the point clouds for the following amphoras from the Yassiada site:\n",
    "- Y114\n",
    "- 86-85\n",
    "- 86-93\n",
    "- 86-99\n",
    "- 86-110\n",
    "- C\n",
    "- D\n",
    "- F\n",
    "- W43\n",
    "- Y39\n",
    "- Y128\n",
    "\n",
    "Outlier detection for each amphora model:\n",
    " - detects and screens for outliers\n",
    " - optionally outputs a .csv file containing coordinates with all non-outliers only, in order to avoid repeating this computation\n",
    " \n",
    "# I/O\n",
    "**Inputs:**\n",
    " - a point/mesh cloud (.obj format) for each amphora model\n",
    "\n",
    "**Outputs:**\n",
    " - comma-separated value (.csv) file for each amphora model\n",
    " \n",
    " # Description\n",
    "\n",
    "This notebook is **Part 1** of the user interface for the analysis. Before running the notebook, the user assigns values to the variables in the cell (i.e. block of code) under the heading \"User Inputs;\" this is the only cell that the user should ever edit. The subsequent cells perform the cleaning and analysis of the point clouds.\n",
    "\n",
    "Most of the code and computational logic have been abstracted away from this notebook and consolidated in a separate utility file in order to leave this notebook user interface clean and uncluttered. I.e. the utility file is where I wrote the code which actually does the heavy lifting; this notebook uses that toolkit."
   ]
  },
  {
   "cell_type": "code",
   "execution_count": 1,
   "metadata": {
    "collapsed": true
   },
   "outputs": [],
   "source": [
    "import sys\n",
    "sys.path.insert(0,'../../')\n",
    "import util"
   ]
  },
  {
   "cell_type": "markdown",
   "metadata": {},
   "source": [
    "## User Inputs\n",
    "Define some information that the code needs to know. This cell is the only cell that the user should edit."
   ]
  },
  {
   "cell_type": "code",
   "execution_count": 2,
   "metadata": {
    "collapsed": true
   },
   "outputs": [],
   "source": [
    "models = ['Y114', '86-85', '86-93', '86-99', '86-110', 'C', 'D', 'F', 'W43', 'Y39', 'Y128']\n",
    "path_to_models = '/Volumes/Seagate/Amphora_Project/code_dir_20181218/Amphora/yassiada/total_handleless/models'\n",
    "save_nonoutliers = True    # whether or not to save csv files of point cloud coordinates with all outliers excluded.\n",
    "                           # Set True if these files do not yet exist, else False."
   ]
  },
  {
   "cell_type": "markdown",
   "metadata": {},
   "source": [
    "## Outlier Removal\n",
    "Outlier points are identified as points which are not close enough to other points.\n",
    "Closeness threshold is the Otsu threshold as computed on the bimodal point-to-point distance distribution.\n",
    "\n",
    "#### Read in object, convert to numpy array.\n",
    "Read in a point cloud file and store as a matrix.\n",
    "\n",
    "#### Remove outlier points. \n",
    "Remove outlier points and optionally output a .csv file containing coordinates with all non-outliers only, in order to avoid repeating this computation. If this computation has already been run for these .obj files, set **save_nonoutliers** in the above cell (i.e. block of code) to True. Otherwise, set **save_nonoutliers** to False to avoid recreating the .csv files. (See comments for \"save_nonoutliers\" above.)"
   ]
  },
  {
   "cell_type": "code",
   "execution_count": 3,
   "metadata": {},
   "outputs": [
    {
     "name": "stdout",
     "output_type": "stream",
     "text": [
      "Y114\n",
      "86-85\n",
      "86-93\n",
      "86-99\n",
      "86-110\n",
      "C\n",
      "D\n",
      "F\n",
      "W43\n",
      "Y39\n",
      "Y128\n"
     ]
    }
   ],
   "source": [
    "for model in models:\n",
    "    \n",
    "    print model # Allows the user to see which model the code is working on\n",
    "    \n",
    "    # Read object\n",
    "    obj_filepath = path_to_models + '/' + model + '_handleless.obj'\n",
    "    obj_coords = util.obj_to_np(obj_filepath)\n",
    "    \n",
    "    # Remove object outlier points\n",
    "    obj_csv_filename = model + '.csv'    \n",
    "    obj_coords = util.remove_outliers(obj_coords, save_nonoutliers, obj_csv_filename)"
   ]
  },
  {
   "cell_type": "markdown",
   "metadata": {},
   "source": [
    "^ Each of these are status messages, which print while the program is running when the corresponding model is being evaluated."
   ]
  }
 ],
 "metadata": {
  "kernelspec": {
   "display_name": "Python 2",
   "language": "python",
   "name": "python2"
  },
  "language_info": {
   "codemirror_mode": {
    "name": "ipython",
    "version": 2
   },
   "file_extension": ".py",
   "mimetype": "text/x-python",
   "name": "python",
   "nbconvert_exporter": "python",
   "pygments_lexer": "ipython2",
   "version": "2.7.13"
  }
 },
 "nbformat": 4,
 "nbformat_minor": 2
}
