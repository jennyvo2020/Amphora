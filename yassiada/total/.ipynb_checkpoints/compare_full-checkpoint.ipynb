{
 "cells": [
  {
   "cell_type": "markdown",
   "metadata": {},
   "source": [
    "# Full-Body Comparative Shape Analysis Part 2\n",
    "\n",
    "This code executes **full body comparative shape analysis** on the point clouds for the following amphoras from the Yassiada site:\n",
    "- Y114\n",
    "- 86-85\n",
    "- 86-93\n",
    "- 86-99\n",
    "- 86-110\n",
    "- C\n",
    "- D\n",
    "- F\n",
    "- W43\n",
    "- Y39\n",
    "- Y128\n",
    "\n",
    "Full body comparative shape analysis:\n",
    "- visualization of the average point-to-point distance between the two model point clouds across all amphoras of the dataset\n",
    "- optionally save all point-to-point distances as a csv file to avoid repeating this computaiton\n",
    "\n",
    "# I/O\n",
    "**Inputs:**\n",
    " - comma-separated value (.csv) file for each reference and compared amphora model\n",
    "\n",
    "**Outputs:**\n",
    " - csv file storing all point-to-point distances distance between each pare of compared amphoras\n",
    " - a visualization of the distribution of these average distances across the set of amphoras\n",
    " \n",
    "# Description\n",
    "\n",
    "This notebook is **Part 2** of the user interface for the analysis. Before running the notebook, the user assigns values to the variables in the cell (i.e. block of code) under the heading \"User Inputs;\" this is the only cell that the user should ever edit. The subsequent cells perform the cleaning and analysis of the point clouds.\n",
    "\n",
    "Most of the code and computational logic have been abstracted away from this notebook and consolidated in a separate utility file in order to leave this notebook user interface clean and uncluttered. I.e. the utility file is where I wrote the code which actually does the heavy lifting; this notebook uses that toolkit."
   ]
  },
  {
   "cell_type": "markdown",
   "metadata": {},
   "source": [
    "## Imports\n",
    "Import modules and other required dependencies.\n",
    "- **util** : the module written by me, containing amphora point cloud analysis methods\n",
    "- **matplotlib** : a module that helps make nice plots"
   ]
  },
  {
   "cell_type": "code",
   "execution_count": 31,
   "metadata": {
    "collapsed": true
   },
   "outputs": [],
   "source": [
    "import sys\n",
    "sys.path.insert(0,'../../')\n",
    "import util\n",
    "import matplotlib.pyplot as plt\n",
    "import numpy as np\n",
    "%matplotlib inline"
   ]
  },
  {
   "cell_type": "markdown",
   "metadata": {},
   "source": [
    "## User Inputs\n",
    "Define some information that the code needs to know. This cell is the only cell that the user should edit."
   ]
  },
  {
   "cell_type": "code",
   "execution_count": 2,
   "metadata": {
    "collapsed": true
   },
   "outputs": [],
   "source": [
    "ref = 'Y114'\n",
    "compare = ['86-85', '86-93', '86-99', '86-110', 'C', 'D', 'F', 'W43', 'Y39', 'Y128']\n",
    "path_to_csv = '/Volumes/Seagate/Amphora_Project/code_dir_20181218/Amphora/yassiada/total_handleless/csv/'\n",
    "save_distances = True      # whether or not to save csv files of nearest-neighbor distances between objects.\n",
    "                           # Set True if these files do not yet exist, else False."
   ]
  },
  {
   "cell_type": "markdown",
   "metadata": {},
   "source": [
    "## Cloud-to-Cloud Distance Comparison\n",
    "For each model, calculate the mean distance from each point in Object 1 to the nearest neighbor in Object 2."
   ]
  },
  {
   "cell_type": "code",
   "execution_count": 3,
   "metadata": {},
   "outputs": [
    {
     "name": "stdout",
     "output_type": "stream",
     "text": [
      "86-85\n",
      "86-93\n",
      "86-99\n",
      "86-110\n",
      "C\n",
      "D\n",
      "F\n",
      "W43\n",
      "Y39\n",
      "Y128\n"
     ]
    }
   ],
   "source": [
    "average_distances = []\n",
    "stdev_distances = []\n",
    "\n",
    "for model in compare:\n",
    "    \n",
    "    print model # so the user can see which segment the code is working on\n",
    "    \n",
    "    ref_csv_path = path_to_csv + ref + '.csv'\n",
    "    model_csv_path = path_to_csv + model + '.csv'\n",
    "    dist_filename = ref + '_' + model + '_distances.csv'\n",
    "    \n",
    "    average_distance, stdev_distance = util.get_cc_dist(ref_csv_path, model_csv_path, save_distances, dist_filename)\n",
    "    \n",
    "    average_distances.append(average_distance)\n",
    "    stdev_distances.append(stdev_distance)"
   ]
  },
  {
   "cell_type": "markdown",
   "metadata": {},
   "source": [
    "^ Each of these are status messages, which print while the program is running when the corresponding model is being compared with the reference."
   ]
  },
  {
   "cell_type": "code",
   "execution_count": 4,
   "metadata": {},
   "outputs": [
    {
     "name": "stdout",
     "output_type": "stream",
     "text": [
      "[5.5941164382379638, 2.6383015815133035, 4.6687265879158604, 5.7909020122029196, 13.261339903965755, 8.6598296474811551, 6.6705123365713472, 3.8736946630776261, 3.7239575266677263, 4.0001480443298076]\n",
      "[2.7021869895182289, 1.8396296220892483, 3.1475715999494289, 3.4242957486494698, 4.1269390185303507, 4.5990156123882278, 3.138404097655469, 2.5561474625523495, 2.5124177064545665, 2.6779778597482498]\n"
     ]
    }
   ],
   "source": [
    "print average_distances\n",
    "print stdev_distances"
   ]
  },
  {
   "cell_type": "markdown",
   "metadata": {},
   "source": [
    "# Plot Average Point-to-Nearest-Neighbor Distance (NND)"
   ]
  },
  {
   "cell_type": "code",
   "execution_count": 136,
   "metadata": {},
   "outputs": [
    {
     "data": {
      "text/plain": [
       "<matplotlib.text.Text at 0x1c2c2c1310>"
      ]
     },
     "execution_count": 136,
     "metadata": {},
     "output_type": "execute_result"
    },
    {
     "data": {
      "image/png": "[encoded data removed]",
      "text/plain": [
       "<matplotlib.figure.Figure at 0x1c2823df90>"
      ]
     },
     "metadata": {},
     "output_type": "display_data"
    }
   ],
   "source": [
    "fig, ax = plt.subplots()\n",
    "x_pos = np.arange(len(compare))\n",
    "ax.bar(x_pos, average_distances, color='#412100')\n",
    "ax.set_xticks(x_pos)\n",
    "ax.set_xticklabels(compare)\n",
    "ax.set_xlabel('Compared with Y114')\n",
    "ax.set_ylabel('Average point-to-nearest-neighbor distance [mm]')\n",
    "ax.set_title('Shape Differences (NND) from Y114')"
   ]
  },
  {
   "cell_type": "markdown",
   "metadata": {},
   "source": [
    "# Plot Average NND in Ascending Order\n",
    "Same plot as previous but sorted in ascending order."
   ]
  },
  {
   "cell_type": "code",
   "execution_count": 137,
   "metadata": {},
   "outputs": [
    {
     "data": {
      "text/plain": [
       "<matplotlib.text.Text at 0x1c2c5e67d0>"
      ]
     },
     "execution_count": 137,
     "metadata": {},
     "output_type": "execute_result"
    },
    {
     "data": {
      "image/png": "[encoded data removed]",
      "text/plain": [
       "<matplotlib.figure.Figure at 0x1c2c5115d0>"
      ]
     },
     "metadata": {},
     "output_type": "display_data"
    }
   ],
   "source": [
    "# order the compared amphoras by avg NND to ref amphora\n",
    "compare_sorted = [x for _,x in sorted(zip(average_distances, compare))]\n",
    "average_distances_sorted = sorted(average_distances)\n",
    "\n",
    "fig, ax = plt.subplots()\n",
    "x_pos = np.arange(len(compare_sorted))\n",
    "ax.bar(x_pos, average_distances_sorted, color='#412100')\n",
    "ax.set_xticks(x_pos)\n",
    "ax.set_xticklabels(compare_sorted)\n",
    "ax.set_xlabel('Compared with Y114')\n",
    "ax.set_ylabel('Average point-to-nearest-neighbor distance')\n",
    "ax.set_title('Shape Differences (NND) from Y114')"
   ]
  },
  {
   "cell_type": "markdown",
   "metadata": {},
   "source": [
    "** Import pertinent data physically measured. (Excerpted from James's spreadsheet.) **"
   ]
  },
  {
   "cell_type": "code",
   "execution_count": 138,
   "metadata": {},
   "outputs": [
    {
     "name": "stdout",
     "output_type": "stream",
     "text": [
      "        max_diam  body_height  md_plus_bh  body_vol          group\n",
      "tag                                                               \n",
      "86-85       41.3        39.00       80.30    32.790  Spiral combed\n",
      "86-93       42.3        41.30       83.60    36.245  Spiral combed\n",
      "86-99       41.1        42.10       83.20    35.845  Spiral combed\n",
      "86-110      43.9        43.20       87.10    38.960  Spiral combed\n",
      "C           44.8        42.20       87.00    42.550        Outlier\n",
      "D           42.7        42.25       84.95    39.775        Outlier\n",
      "F           42.7        41.80       84.50    39.385        Outlier\n",
      "W43         42.8        40.30       83.10    35.435  Spiral combed\n",
      "Y39         42.9        42.10       85.00    37.330        Outlier\n",
      "Y128        41.5        41.90       83.40    36.047  Spiral combed\n"
     ]
    }
   ],
   "source": [
    "import pandas as pd\n",
    "phys_data = pd.read_csv('phys_data.csv', index_col=0)\n",
    "print phys_data"
   ]
  },
  {
   "cell_type": "markdown",
   "metadata": {},
   "source": [
    "**Indexing table elements**"
   ]
  },
  {
   "cell_type": "code",
   "execution_count": 139,
   "metadata": {},
   "outputs": [
    {
     "name": "stdout",
     "output_type": "stream",
     "text": [
      "43.9\n"
     ]
    }
   ],
   "source": [
    "row = phys_data.loc['86-110']\n",
    "max_diam = row.loc['max_diam']\n",
    "print max_diam"
   ]
  },
  {
   "cell_type": "code",
   "execution_count": 143,
   "metadata": {},
   "outputs": [
    {
     "data": {
      "text/plain": [
       "<matplotlib.text.Text at 0x1c2cd009d0>"
      ]
     },
     "execution_count": 143,
     "metadata": {},
     "output_type": "execute_result"
    },
    {
     "data": {
      "image/png": "[encoded data removed]",
      "text/plain": [
       "<matplotlib.figure.Figure at 0x1c2cb54910>"
      ]
     },
     "metadata": {},
     "output_type": "display_data"
    }
   ],
   "source": [
    "from matplotlib.lines import Line2D\n",
    "\n",
    "max_diam = [x/10 for x in list(phys_data['max_diam'])]\n",
    "body_height = [x/10 for x in list(phys_data['body_height'])]\n",
    "md_plus_bh = [x/10 for x in list(phys_data['md_plus_bh'])]\n",
    "body_vol = [x/10 for x in list(phys_data['body_vol'])]\n",
    "\n",
    "max_diam_sorted = [x for _,x in sorted(zip(average_distances, max_diam))]\n",
    "body_height_sorted = [x for _,x in sorted(zip(average_distances, body_height))]\n",
    "md_plus_bh_sorted = [x for _,x in sorted(zip(average_distances, md_plus_bh))]\n",
    "body_vol_sorted = [x for _,x in sorted(zip(average_distances, body_vol))]\n",
    "\n",
    "fig, ax = plt.subplots(figsize=(10,8))\n",
    "x_pos = np.arange(len(compare_sorted))\n",
    "\n",
    "w = 0.15\n",
    "s = 0.03\n",
    "\n",
    "colors = ['#3399FF', '#ff79f3', '#ae61ff', 'orange']\n",
    "colors = ['#ffaaff', '#82caff', '#ccaaff', '#6AFB92']\n",
    "# colors = ['#ffaaff', '#FFE87C', '#6AFB92', '#82caff']\n",
    "\n",
    "\n",
    "ax.bar(x_pos-2*w-2*s, average_distances_sorted,width=w,color='#412100',align='center')\n",
    "ax.bar(x_pos-w-s, max_diam_sorted,width=w,color=colors[0],align='center')\n",
    "ax.bar(x_pos, body_height_sorted,width=w,color=colors[1],align='center')\n",
    "ax.bar(x_pos+w+s, md_plus_bh_sorted,width=w,color=colors[2],align='center')\n",
    "ax.bar(x_pos+2*w+2*s, body_vol_sorted,width=w,color=colors[3],align='center')\n",
    "\n",
    "handle_list = [Line2D([0],[0], marker='o', color='w', markerfacecolor='#412100', label='Avg NND compared with Y114 [mm]'),\n",
    "               Line2D([0],[0], marker='o', color='w', markerfacecolor=colors[0], label='Max diameter [dm]'),\n",
    "               Line2D([0],[0], marker='o', color='w', markerfacecolor=colors[1], label='Body height [dm]'),\n",
    "               Line2D([0],[0], marker='o', color='w', markerfacecolor=colors[2], label='Max diameter + height [dm]'),\n",
    "               Line2D([0],[0], marker='o', color='w', markerfacecolor=colors[3], label='Volume [L]')]\n",
    "plt.legend(handles=handle_list, bbox_to_anchor=(0.9, 0., 0.5, 0.5))\n",
    "ax.set_xticks(x_pos)\n",
    "ax.set_xticklabels(compare_sorted)\n",
    "ax.set_ylabel('Length')\n",
    "ax.set_title('Shape Differences (NND) from Y114 Compared with Phyisical Measurements')"
   ]
  },
  {
   "cell_type": "markdown",
   "metadata": {},
   "source": [
    "Printing physical measurement ranges for reference:"
   ]
  },
  {
   "cell_type": "code",
   "execution_count": 141,
   "metadata": {},
   "outputs": [
    {
     "name": "stdout",
     "output_type": "stream",
     "text": [
      "range max diameter: 41.1 -> 44.8 cm\n",
      "range body height:  39.0 -> 43.2 cm\n",
      "range body vol:     32.79 -> 42.55 L\n"
     ]
    }
   ],
   "source": [
    "print 'range max diameter: ' + str(min(max_diam)*10) + ' -> ' + str(max(max_diam)*10) + ' cm'\n",
    "print 'range body height:  ' + str(min(body_height)*10) + ' -> ' + str(max(body_height)*10) + ' cm'\n",
    "print 'range body vol:     ' + str(min(body_vol)*10) + ' -> ' + str(max(body_vol)*10) + ' L'"
   ]
  },
  {
   "cell_type": "markdown",
   "metadata": {
    "collapsed": true
   },
   "source": [
    "# Discussion\n",
    "\n",
    "Interpreting avg NND compared with Y114 as shape difference, as we've been doing, it is clear in the above plots that the amphoras that James designtated as outliers – F, D, and especially C – showed the greatest shape differences.\n",
    "\n",
    "The last plot seems to suggest that despite differences in overall shape, which varied from about 2 mm to about 13 mm in overall average NND from Y114, the potters somehow still managed to control the volume of this set of amphoras within a rather narrow range by controlling the maximum diameter and the body height, which. I find this extremely impressive."
   ]
  },
  {
   "cell_type": "code",
   "execution_count": null,
   "metadata": {
    "collapsed": true
   },
   "outputs": [],
   "source": []
  }
 ],
 "metadata": {
  "kernelspec": {
   "display_name": "Python 3",
   "language": "python",
   "name": "python3"
  },
  "language_info": {
   "codemirror_mode": {
    "name": "ipython",
    "version": 3
   },
   "file_extension": ".py",
   "mimetype": "text/x-python",
   "name": "python",
   "nbconvert_exporter": "python",
   "pygments_lexer": "ipython3",
   "version": "3.6.5"
  }
 },
 "nbformat": 4,
 "nbformat_minor": 2
}
