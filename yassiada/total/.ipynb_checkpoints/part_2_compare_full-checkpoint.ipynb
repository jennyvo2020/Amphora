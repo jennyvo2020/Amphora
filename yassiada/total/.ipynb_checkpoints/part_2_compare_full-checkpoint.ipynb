{
 "cells": [
  {
   "cell_type": "markdown",
   "metadata": {},
   "source": [
    "# Full Amphora Comparative Morphological Analysis Part 2\n",
    "\n",
    "This code executes **full amphora comparative morphological analysis** on the point clouds for the following 21 amphoras from the Yassiada site:\n",
    "\n",
    "- 84-10\n",
    "- 86-85\n",
    "- 86-92\n",
    "- 86-93\n",
    "- 86-99\n",
    "- 86-107\n",
    "- 86-110\n",
    "- 86-117\n",
    "- 86-120\n",
    "- C\n",
    "- D\n",
    "- F\n",
    "- W43\n",
    "- W55\n",
    "- Y7\n",
    "- Y11\n",
    "- Y15\n",
    "- Y39\n",
    "- Y126\n",
    "- Y127\n",
    "- Y128\n",
    "\n",
    "Using Y114 as the reference amphora.\n",
    "\n",
    "Full jar comparative morphological analysis:\n",
    "- visualization of the average point-to-point distance between the two model point clouds across all amphoras of the dataset\n",
    "- optionally save all point-to-point distances as a csv file to avoid repeating this computaiton\n",
    "\n",
    "# I/O\n",
    "**Inputs:**\n",
    " - comma-separated value (.csv) file for each reference and compared amphora model\n",
    "\n",
    "**Outputs:**\n",
    " - csv file storing all point-to-point distances distance between each pare of compared amphoras\n",
    " - a visualization of the distribution of these average distances across the set of amphoras\n",
    " \n",
    "# Description\n",
    "\n",
    "This notebook is **Part 2** of the user interface for the analysis. Before running the notebook, the user assigns values to the variables in the cell (i.e. block of code) under the heading \"User Inputs;\" this is the only cell that the user should ever edit. The subsequent cells perform the cleaning and analysis of the point clouds.\n",
    "\n",
    "Most of the code has been abstracted away from this notebook and consolidated in a separate utility file in order to leave this notebook user interface clean and uncluttered. I.e. the utility file is where I wrote the code which actually does the heavy lifting; this notebook uses that toolkit."
   ]
  },
  {
   "cell_type": "markdown",
   "metadata": {},
   "source": [
    "## Imports\n",
    "Import modules and other required dependencies.\n",
    "- **util** : the module written by me, containing amphora point cloud analysis methods\n",
    "- **matplotlib** : a module that helps make nice plots"
   ]
  },
  {
   "cell_type": "code",
   "execution_count": 1,
   "metadata": {
    "collapsed": true
   },
   "outputs": [],
   "source": [
    "import sys\n",
    "sys.path.insert(0,'../../')\n",
    "import util\n",
    "import matplotlib.pyplot as plt\n",
    "import numpy as np\n",
    "%matplotlib inline"
   ]
  },
  {
   "cell_type": "markdown",
   "metadata": {},
   "source": [
    "## User Inputs\n",
    "Define some information that the code needs to know. This cell is the only cell that the user should edit."
   ]
  },
  {
   "cell_type": "code",
   "execution_count": 2,
   "metadata": {
    "collapsed": true
   },
   "outputs": [],
   "source": [
    "ref = 'Y114'\n",
    "compare = ['84-10', '86-85', '86-92', '86-93', '86-99', '86-107', '86-110', '86-117', '86-120', 'C', 'D', 'F', 'W43', 'W55', 'Y7', 'Y11', 'Y15', 'Y39', 'Y126', 'Y127', 'Y128']\n",
    "path_to_csv = '/Volumes/Seagate/Amphora_Project/code_dir_20190329/Amphora/yassiada/clean_csv/'\n",
    "save_distances = False      # whether or not to save csv files of nearest-neighbor distances between objects.\n",
    "                           # Set True if these files do not yet exist, else False."
   ]
  },
  {
   "cell_type": "markdown",
   "metadata": {},
   "source": [
    "## Cloud-to-Cloud Distance Comparison\n",
    "For each model, calculate the mean distance from each point in Object 1 to the nearest neighbor in Object 2."
   ]
  },
  {
   "cell_type": "code",
   "execution_count": 3,
   "metadata": {},
   "outputs": [
    {
     "name": "stdout",
     "output_type": "stream",
     "text": [
      "84-10\n",
      "86-85\n",
      "86-92\n",
      "86-93\n",
      "86-99\n",
      "86-107\n",
      "86-110\n",
      "86-117\n",
      "86-120\n",
      "C\n",
      "D\n",
      "F\n",
      "W43\n",
      "W55\n",
      "Y7\n",
      "Y11\n",
      "Y15\n",
      "Y39\n",
      "Y126\n",
      "Y127\n",
      "Y128\n"
     ]
    }
   ],
   "source": [
    "average_distances = []\n",
    "stdev_distances = []\n",
    "\n",
    "for model in compare:\n",
    "    \n",
    "    print model # so the user can see which segment the code is working on\n",
    "    \n",
    "    ref_csv_path = path_to_csv + ref + '.csv'\n",
    "    model_csv_path = path_to_csv + model + '.csv'\n",
    "    dist_filename = ref + '_' + model + '_distances.csv'\n",
    "    \n",
    "    average_distance, stdev_distance = util.get_avg_cc_dist(ref_csv_path, model_csv_path, save_distances, dist_filename)\n",
    "    \n",
    "    average_distances.append(average_distance)\n",
    "    stdev_distances.append(stdev_distance)"
   ]
  },
  {
   "cell_type": "markdown",
   "metadata": {},
   "source": [
    "^ Each of these are status messages, which print while the program is running when the corresponding model is being compared with the reference."
   ]
  },
  {
   "cell_type": "markdown",
   "metadata": {},
   "source": [
    "# Morphological difference from Y114 across the dataset"
   ]
  },
  {
   "cell_type": "code",
   "execution_count": 4,
   "metadata": {},
   "outputs": [
    {
     "data": {
      "text/plain": [
       "<matplotlib.text.Text at 0x1c2042bf90>"
      ]
     },
     "execution_count": 4,
     "metadata": {},
     "output_type": "execute_result"
    },
    {
     "data": {
      "image/png": "[encoded data removed]",
      "text/plain": [
       "<matplotlib.figure.Figure at 0x1c188ff7d0>"
      ]
     },
     "metadata": {},
     "output_type": "display_data"
    }
   ],
   "source": [
    "# order the compared amphoras by avg NND to ref amphora\n",
    "compare_sorted = [x for _,x in sorted(zip(average_distances, compare))]\n",
    "average_distances_sorted = sorted(average_distances)\n",
    "\n",
    "fig, ax = plt.subplots(figsize = (15, 6))\n",
    "x_pos = np.arange(len(compare_sorted))\n",
    "ax.bar(x_pos, average_distances_sorted, color='#412100')\n",
    "ax.set_xticks(x_pos)\n",
    "ax.set_xticklabels(compare_sorted)\n",
    "ax.set_xlabel('Compared with Y114')\n",
    "ax.set_ylabel('Average point-to-nearest-neighbor distance')\n",
    "ax.set_title('Morphological Difference (NND) from Y114')"
   ]
  },
  {
   "cell_type": "markdown",
   "metadata": {},
   "source": [
    "** Import pertinent data physically measured. **"
   ]
  },
  {
   "cell_type": "code",
   "execution_count": 5,
   "metadata": {},
   "outputs": [
    {
     "name": "stdout",
     "output_type": "stream",
     "text": [
      "        max_diam  body_height  body_vol          group\n",
      "tag                                                   \n",
      "84-10       41.8        40.90   35.0140  Spiral combed\n",
      "86-107      41.9        42.20   36.6000  Spiral combed\n",
      "86-110      43.9        43.20   38.9600  Spiral combed\n",
      "86-117      42.8        42.30   38.0200  Spiral combed\n",
      "86-120      41.8        42.40   36.5200  Spiral combed\n",
      "86-85       41.3        39.00   32.7900  Spiral combed\n",
      "86-92       40.9        41.20   34.1230  Spiral combed\n",
      "86-93       42.3        41.30   36.2450  Spiral combed\n",
      "86-99       41.1        42.10   35.8450  Spiral combed\n",
      "C           44.8        42.20   42.5500        Outlier\n",
      "D           42.7        42.25   39.7750        Outlier\n",
      "F           42.7        41.80   39.3850        Outlier\n",
      "W43         42.8        40.30   35.4350  Spiral combed\n",
      "W55         42.3        41.40   36.9700  Spiral combed\n",
      "Y11         41.1        40.80   33.5025  Spiral combed\n",
      "Y114        41.9        41.50   36.0280  Spiral combed\n",
      "Y126        43.1        42.00   37.0090  Spiral combed\n",
      "Y127        42.8        41.50   38.0025  Spiral combed\n",
      "Y128        41.5        41.90   36.0470  Spiral combed\n",
      "Y15         41.9        39.70   34.7600  Spiral combed\n",
      "Y39         42.9        42.10   37.3300        Outlier\n",
      "Y7          42.2        41.50   36.5200  Spiral combed\n"
     ]
    }
   ],
   "source": [
    "import pandas as pd\n",
    "phys_data = pd.read_csv('phys_data.csv', index_col=0)\n",
    "print phys_data"
   ]
  },
  {
   "cell_type": "markdown",
   "metadata": {},
   "source": [
    "Print physically-measured metrics for reference."
   ]
  },
  {
   "cell_type": "code",
   "execution_count": 6,
   "metadata": {},
   "outputs": [
    {
     "name": "stdout",
     "output_type": "stream",
     "text": [
      "range max diameter: 409.0 -> 448.0 cm\n",
      "range body height:  390.0 -> 432.0 cm\n",
      "range body vol:     327.9 -> 425.5 L\n"
     ]
    }
   ],
   "source": [
    "phys_data_comp = phys_data.drop([ref])\n",
    "max_diam = list(phys_data_comp['max_diam'])\n",
    "body_height = list(phys_data_comp['body_height'])\n",
    "body_vol = list(phys_data_comp['body_vol'])\n",
    "print 'range max diameter: ' + str(min(max_diam)*10) + ' -> ' + str(max(max_diam)*10) + ' cm'\n",
    "print 'range body height:  ' + str(min(body_height)*10) + ' -> ' + str(max(body_height)*10) + ' cm'\n",
    "print 'range body vol:     ' + str(min(body_vol)*10) + ' -> ' + str(max(body_vol)*10) + ' L'"
   ]
  },
  {
   "cell_type": "markdown",
   "metadata": {},
   "source": [
    "# Morphological difference compared with other physical quantities across the dataset"
   ]
  },
  {
   "cell_type": "code",
   "execution_count": 15,
   "metadata": {},
   "outputs": [
    {
     "data": {
      "image/png": "[encoded data removed]",
      "text/plain": [
       "<matplotlib.figure.Figure at 0x1c1a087e50>"
      ]
     },
     "metadata": {},
     "output_type": "display_data"
    }
   ],
   "source": [
    "from matplotlib.lines import Line2D\n",
    "\n",
    "max_diam_sorted = [x for _,x in sorted(zip(average_distances, max_diam))]\n",
    "body_height_sorted = [x for _,x in sorted(zip(average_distances, body_height))]\n",
    "body_vol_sorted = [x for _,x in sorted(zip(average_distances, body_vol))]\n",
    "\n",
    "fig, ax = plt.subplots(figsize=(15,6))\n",
    "x_pos = np.arange(len(compare_sorted))\n",
    "\n",
    "w = 0.15\n",
    "s = 0.03\n",
    "\n",
    "colors = ['#412100', '#ffaaff', '#82caff', '#6AFB92']\n",
    "\n",
    "ax.bar(x_pos-2*w-2*s, [x*10 for x in average_distances_sorted],width=w,color=colors[0],align='center')\n",
    "ax.bar(x_pos-w-s, max_diam_sorted,width=w,color=colors[1],align='center')\n",
    "ax.bar(x_pos, body_height_sorted,width=w,color=colors[2],align='center')\n",
    "ax.bar(x_pos+2*w+2*s, body_vol_sorted,width=w,color=colors[3],align='center')\n",
    "\n",
    "handle_list = [Line2D([0],[0], marker='o', color='w', markerfacecolor=colors[0], label='Avg NND compared with Y114 [mm * 0.1]'),\n",
    "               Line2D([0],[0], marker='o', color='w', markerfacecolor=colors[1], label='Max diameter [cm]'),\n",
    "               Line2D([0],[0], marker='o', color='w', markerfacecolor=colors[2], label='Body height [cm]'),\n",
    "               Line2D([0],[0], marker='o', color='w', markerfacecolor=colors[3], label='Volume [L]')]\n",
    "plt.legend(handles=handle_list, bbox_to_anchor=(0.85, 0.1, 0.5, 0.5))\n",
    "plt.xlabel('ID')\n",
    "plt.ylabel('Units')\n",
    "ax.set_xticks(x_pos)\n",
    "ax.set_xticklabels(compare_sorted)\n",
    "ax.set_title('Morphological Difference (Avg. NND) from Y114 and Absolute Physical Measurements')\n",
    "plt.show()"
   ]
  },
  {
   "cell_type": "markdown",
   "metadata": {},
   "source": [
    "# Characterizing the dataset as a whole"
   ]
  },
  {
   "cell_type": "code",
   "execution_count": 16,
   "metadata": {
    "scrolled": false
   },
   "outputs": [
    {
     "name": "stdout",
     "output_type": "stream",
     "text": [
      "Morphological difference from Y114\n",
      "\n",
      "\t\tmean\t\tstdev\n",
      "\n",
      "NND [mm]\t4.846025\t2.333272\n",
      "\n",
      "Physical metrics, absolute\n",
      "\n",
      "\t\tmean\t\tstdev\t\tcv\n",
      "\n",
      "max diam [cm]\t42.314286\t0.930584\t0.021992\n",
      "body ht [cm]\t41.526190\t0.951392\t0.022911\n",
      "max diam [cm]\t36.733476\t2.201453\t0.059930\n"
     ]
    }
   ],
   "source": [
    "metrics_abs = [max_diam_sorted,\n",
    "          body_height_sorted,\n",
    "          body_vol_sorted]\n",
    "\n",
    "metric_names = ['max diam [cm]', 'body ht [cm]', 'volume [L]']\n",
    "\n",
    "print 'Morphological difference from Y114\\n\\n\\t\\t%s\\t\\t%s\\n' % ('mean', 'stdev')\n",
    "name = 'NND [mm]'\n",
    "metric = average_distances_sorted\n",
    "print '%s\\t%f\\t%f' % (name, np.mean(metric), np.std(metric))\n",
    "\n",
    "print '\\nPhysical metrics, absolute\\n\\n\\t\\t%s\\t\\t%s\\t\\t%s\\n' % ('mean', 'stdev', 'cv')\n",
    "for metric, name in zip(metrics_abs, metric_names):\n",
    "    print '%s\\t%f\\t%f\\t%f' % (name, np.mean(metric), np.std(metric), np.std(metric)/np.mean(metric))"
   ]
  }
 ],
 "metadata": {
  "kernelspec": {
   "display_name": "Python 2",
   "language": "python",
   "name": "python2"
  },
  "language_info": {
   "codemirror_mode": {
    "name": "ipython",
    "version": 2
   },
   "file_extension": ".py",
   "mimetype": "text/x-python",
   "name": "python",
   "nbconvert_exporter": "python",
   "pygments_lexer": "ipython2",
   "version": "2.7.13"
  }
 },
 "nbformat": 4,
 "nbformat_minor": 2
}
