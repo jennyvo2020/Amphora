{
 "cells": [
  {
   "cell_type": "markdown",
   "metadata": {},
   "source": [
    "# Objective\n",
    "\n",
    "This code executes **segmentwise comparative shape analysis** on the point clouds for amphoras YA7_Y114 and YA7_86-93 from the Yassiada site. This analysis includes the following:\n",
    "\n",
    "- Outlier detection for each graduated segment of the amphoras:\n",
    "     - detects and screens for outliers\n",
    "     - optionally outputs a .csv file containing coordinates with all non-outliers only, in order to avoid repeating this computation\n",
    "\n",
    "\n",
    "- Cloud-to-cloud distance comparison over all graduated segments of the amphoras:\n",
    "    - visualization of the change in average point-to-point distance between the two segment point clouds across all graduated segments of the amphoras\n",
    "        - optionally scale the average point-to-point distance for each segment by the max diameter of that segment\n",
    "\n",
    "# I/O\n",
    "**Inputs:**\n",
    " - a point/mesh cloud (.obj format) from each of two amphoras for each graduated segment\n",
    "\n",
    "**Outputs:**\n",
    " - each input segment with outliers removed\n",
    " - the average mesh-to-mesh distance between the amphoras at each graduated segment\n",
    " - a visualization of the distribution of these average distances\n",
    " \n",
    "# Description\n",
    "This notebook is the user interface for the analysis. Before running the notebook, the user assigns values to the variables in the cell (i.e. block of code) under the heading \"User Inputs;\" this is the only cell that the user should ever edit. The subsequent cells perform the cleaning and analysis of the point clouds.\n",
    "\n",
    "Most of the code and computational logic have been abstracted away from this notebook and consolidated in a separate utility file in order to leave this notebook user interface clean and uncluttered. I.e. the utility file is where I wrote the code which actually does the heavy lifting; this notebook uses that toolkit."
   ]
  },
  {
   "cell_type": "markdown",
   "metadata": {},
   "source": [
    "## Imports\n",
    "Import modules and other required dependencies.\n",
    "- **util** : the module written by me, containing amphora point cloud analysis methods\n",
    "- **matplotlib** : a module that helps make nice plots"
   ]
  },
  {
   "cell_type": "code",
   "execution_count": 1,
   "metadata": {
    "collapsed": true
   },
   "outputs": [],
   "source": [
    "import sys\n",
    "sys.path.insert(0,'../../')\n",
    "import util\n",
    "import matplotlib.pyplot as plt\n",
    "import numpy as np\n",
    "%matplotlib inline"
   ]
  },
  {
   "cell_type": "markdown",
   "metadata": {},
   "source": [
    "## User Inputs\n",
    "Define some information that the code needs to know. This cell is the only cell that the user should edit."
   ]
  },
  {
   "cell_type": "code",
   "execution_count": 2,
   "metadata": {
    "collapsed": true
   },
   "outputs": [],
   "source": [
    "segments = ['01', '12', '23', '34', '45', '56']\n",
    "max_diameters = [90, 135, 300, 415, 180, 240]    # the maximum diameter of each segment\n",
    "amphora_names = ['Y114', '86-93']\n",
    "path_to_segments = '/Volumes/Seagate/Amphora_Project/code_dir/Amphora/yassiada/Y114_86-93/segments'\n",
    "save_nonoutliers = True    # whether or not to save csv files of point cloud coordinates with all outliers excluded.\n",
    "                           # Set True if these files do not yet exist, else False.\n",
    "save_distances = True      # whether or not to save csv files of nearest-neighbor distances between objects.\n",
    "                           # Set True if these files do not yet exist, else False."
   ]
  },
  {
   "cell_type": "markdown",
   "metadata": {},
   "source": [
    "## Outlier Removal\n",
    "Outlier points are identified as points which are not close enough to other points.\n",
    "Closeness threshold is the Otsu threshold as computed on the bimodal point-to-point distance distribution.\n",
    "\n",
    "#### Read in object, convert to numpy array.\n",
    "Read in a point cloud file and store as a matrix.\n",
    "\n",
    "#### Remove outlier points. \n",
    "Remove outlier points and optionally output a .csv file containing coordinates with all non-outliers only, in order to avoid repeating this computation. If this computation has already been run for these .obj files, set **save_nonoutliers** in the above cell (i.e. block of code) to True. Otherwise, set **save_nonoutliers** to False to avoid recreating the .csv files. (See comments for \"save_nonoutliers\" above.)"
   ]
  },
  {
   "cell_type": "code",
   "execution_count": 3,
   "metadata": {},
   "outputs": [
    {
     "name": "stdout",
     "output_type": "stream",
     "text": [
      "01\n",
      "12\n",
      "23\n",
      "34\n",
      "45\n",
      "56\n"
     ]
    }
   ],
   "source": [
    "for segment in segments:\n",
    "    \n",
    "    print segment # Allows the user to see which segment the code is working on\n",
    "    \n",
    "    # Read Object 0\n",
    "    obj0_filepath = path_to_segments + '/' + segment + '/' + segment + '_' + amphora_names[0] + '.obj'\n",
    "    obj0_coords = util.obj_to_np(obj0_filepath)\n",
    "    \n",
    "    # Remove Object 0 outlier points\n",
    "    obj0_csv_filename = segment+'_'+amphora_names[0]+'.csv'    \n",
    "    obj0_coords = util.remove_outliers(obj0_coords, save_nonoutliers, obj0_csv_filename)\n",
    "\n",
    "    # Read Object 1\n",
    "    obj1_filepath = path_to_segments + '/' + segment + '/' + segment + '_' + amphora_names[1] + '.obj'\n",
    "    obj1_coords = util.obj_to_np(obj1_filepath)\n",
    "    \n",
    "    # Remove Object 1 outlier points\n",
    "    obj1_csv_filename = segment+'_'+amphora_names[1]+'.csv'\n",
    "    obj1_coords = util.remove_outliers(obj1_coords, save_nonoutliers, obj1_csv_filename)"
   ]
  },
  {
   "cell_type": "markdown",
   "metadata": {},
   "source": [
    "^ Each of these are status messages, which print while the program is running when the corresponding segment is being evaluated."
   ]
  },
  {
   "cell_type": "markdown",
   "metadata": {},
   "source": [
    "## Cloud-to-Cloud Distance Comparison\n",
    "For each segment, calculate the mean distance from each point in Object 1 to the nearest neighbor in Object 2."
   ]
  },
  {
   "cell_type": "code",
   "execution_count": 4,
   "metadata": {},
   "outputs": [
    {
     "name": "stdout",
     "output_type": "stream",
     "text": [
      "01\n",
      "12\n",
      "23\n",
      "34\n",
      "45\n",
      "56\n"
     ]
    }
   ],
   "source": [
    "average_distances = []\n",
    "stdev_distances = []\n",
    "\n",
    "for segment in segments:\n",
    "    \n",
    "    print segment # so the user can see which segment the code is working on\n",
    "    \n",
    "    obj0_csv_filename = segment+'_'+amphora_names[0]+'.csv'\n",
    "    obj1_csv_filename = segment+'_'+amphora_names[1]+'.csv'\n",
    "    \n",
    "    filename = segment+'_'+amphora_names[0]+'_'+amphora_names[1]+'_distances.csv'\n",
    "    average_distance, stdev_distance = util.get_avg_cc_dist(obj0_csv_filename, obj1_csv_filename, save_distances, filename)\n",
    "    \n",
    "    average_distances.append(average_distance)\n",
    "    stdev_distances.append(stdev_distance)"
   ]
  },
  {
   "cell_type": "markdown",
   "metadata": {},
   "source": [
    "^ Each of these are status messages, which print while the program is running when the corresponding segment is being evaluated."
   ]
  },
  {
   "cell_type": "markdown",
   "metadata": {},
   "source": [
    "### Visualize average distances across segments"
   ]
  },
  {
   "cell_type": "code",
   "execution_count": 5,
   "metadata": {},
   "outputs": [
    {
     "data": {
      "text/plain": [
       "<matplotlib.text.Text at 0x1c18366d90>"
      ]
     },
     "execution_count": 5,
     "metadata": {},
     "output_type": "execute_result"
    },
    {
     "data": {
      "image/png": "[encoded data removed]",
      "text/plain": [
       "<matplotlib.figure.Figure at 0x1c24aa5550>"
      ]
     },
     "metadata": {},
     "output_type": "display_data"
    }
   ],
   "source": [
    "fig, ax = plt.subplots()\n",
    "y_pos = np.arange(len(segments))\n",
    "ax.barh(y_pos, average_distances, color='#412100')\n",
    "ax.set_yticks(y_pos)\n",
    "ax.set_yticklabels(segments)\n",
    "ax.invert_yaxis()\n",
    "ax.set_xlabel('Average point-to-nearest-neighbor distance [mm]')\n",
    "ax.set_ylabel('Segment')\n",
    "ax.set_title('Average point-to-nearest-neighbor distance')"
   ]
  },
  {
   "cell_type": "markdown",
   "metadata": {},
   "source": [
    "### Visualize average distances across segments, scaled for each segment's max diameter"
   ]
  },
  {
   "cell_type": "code",
   "execution_count": 6,
   "metadata": {},
   "outputs": [
    {
     "data": {
      "text/plain": [
       "<matplotlib.text.Text at 0x1c1b222b90>"
      ]
     },
     "execution_count": 6,
     "metadata": {},
     "output_type": "execute_result"
    },
    {
     "data": {
      "image/png": "[encoded data removed]",
      "text/plain": [
       "<matplotlib.figure.Figure at 0x1c24a9aad0>"
      ]
     },
     "metadata": {},
     "output_type": "display_data"
    }
   ],
   "source": [
    "fig, ax = plt.subplots()\n",
    "y_pos = np.arange(len(segments))\n",
    "average_distances_scaled = [dist/dia for dist, dia in zip(average_distances, max_diameters)]\n",
    "ax.barh(y_pos, average_distances_scaled, color='#412100')\n",
    "ax.set_yticks(y_pos)\n",
    "ax.set_yticklabels(segments)\n",
    "ax.invert_yaxis()\n",
    "ax.set_xlabel('Average point-to-nearest-neighbor distance / max diameter of segment')\n",
    "ax.set_ylabel('Segment')\n",
    "ax.set_title('Average point-to-nearest-neighbor distance scaled')"
   ]
  },
  {
   "cell_type": "markdown",
   "metadata": {},
   "source": [
    "### Visualize the spread of distances across segments"
   ]
  },
  {
   "cell_type": "code",
   "execution_count": 7,
   "metadata": {},
   "outputs": [
    {
     "data": {
      "text/plain": [
       "<matplotlib.text.Text at 0x1c258cae50>"
      ]
     },
     "execution_count": 7,
     "metadata": {},
     "output_type": "execute_result"
    },
    {
     "data": {
      "image/png": "[encoded data removed]",
      "text/plain": [
       "<matplotlib.figure.Figure at 0x1c1bb18810>"
      ]
     },
     "metadata": {},
     "output_type": "display_data"
    }
   ],
   "source": [
    "fig, ax = plt.subplots()\n",
    "y_pos = np.arange(len(segments))\n",
    "ax.barh(y_pos, stdev_distances, color='#412100')\n",
    "ax.set_yticks(y_pos)\n",
    "ax.set_yticklabels(segments)\n",
    "ax.invert_yaxis()\n",
    "ax.set_xlabel('Stdev of point-to-nearest-neighbor distances [mm]')\n",
    "ax.set_ylabel('Segment')\n",
    "ax.set_title('Stdev of point-to-nearest-neighbor distances')"
   ]
  },
  {
   "cell_type": "markdown",
   "metadata": {
    "scrolled": false
   },
   "source": [
    "# Full Visualization\n",
    "\n",
    "The results of average-NND (nearest neighbor distance) shape comparison are most intuitive when the above plot is displayed next to amphora renderings."
   ]
  },
  {
   "cell_type": "markdown",
   "metadata": {},
   "source": [
    "### Absolute Average Distances\n",
    "\n",
    "<img src=\"Y114_86-93_fig_avg.png\" style=\"width: 800px;\"/>"
   ]
  },
  {
   "cell_type": "markdown",
   "metadata": {},
   "source": [
    "### Average Distances Scaled by Max Segment Diameter\n",
    "\n",
    "<img src=\"Y114_86-93_fig_avg_scaled.png\" style=\"width: 800px;\"/>"
   ]
  },
  {
   "cell_type": "markdown",
   "metadata": {},
   "source": [
    "### Spread of Distances Across Segments\n",
    "\n",
    "<img src=\"Y114_86-93_fig_std.png\" style=\"width: 800px;\"/>"
   ]
  },
  {
   "cell_type": "markdown",
   "metadata": {
    "collapsed": true
   },
   "source": [
    "# Discussion\n",
    "\n",
    "As with the Gumusluk amphoras 4634 and 80E-2, we see large differences between amphoras YA7_Y114 and YA7_86-93 in the neck region and the smallest differences in the body region. In fact, the plotted comparison distributions for these amphoras very much resemble the shape of the comparison distributions for the Gumusluk amphoras. Similar theory (= my hypothesis, as informed by our discussions but certainly inexpert) may apply to YA7_Y114 and YA7_86-93: The rim (01) is somewhat hand-sculpted but can be directly measured than the neck (12), which is harder to control. The two higher body segments (23 and 34) are well-controlled while the lowest body segment (45) may have experienced varying degrees of sag.\n",
    "\n",
    "However, there is a notable difference between these comparison distributions and the Gumusluk comparison distributions in the last (lowest) segment of each distribution. The Gumusluk amphoras have a hand-sculpted, probably poorly-controlled toe, and that region actually shows that largest difference of all the regions. Meanwhile, the flattish bases (56) of these Yassiada amphoras align well.\n",
    "\n",
    "The spread of points on YA7_86-93 with close nearest neighbors on YA7_Y114 and points on YA7_86-93 with far nearest neighbors on YA7_Y114 is greatest at the neck (12), then drops down at the top of the body (23) and increases as we go down the amphora."
   ]
  },
  {
   "cell_type": "code",
   "execution_count": null,
   "metadata": {
    "collapsed": true
   },
   "outputs": [],
   "source": []
  }
 ],
 "metadata": {
  "kernelspec": {
   "display_name": "Python 2",
   "language": "python",
   "name": "python2"
  },
  "language_info": {
   "codemirror_mode": {
    "name": "ipython",
    "version": 2
   },
   "file_extension": ".py",
   "mimetype": "text/x-python",
   "name": "python",
   "nbconvert_exporter": "python",
   "pygments_lexer": "ipython2",
   "version": "2.7.13"
  }
 },
 "nbformat": 4,
 "nbformat_minor": 2
}
