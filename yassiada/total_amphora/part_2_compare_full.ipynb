{
 "cells": [
  {
   "cell_type": "markdown",
   "metadata": {},
   "source": [
    "# Full Amphora Comparative Morphological Analysis Part 2\n",
    "\n",
    "This code executes **full amphora comparative morphological analysis** on the point clouds for the following 31 amphoras from the Yassiada site:\n",
    "\n",
    "- 83-2\n",
    "- 84-3\n",
    "- 84-10\n",
    "- 86-75\n",
    "- 86-85\n",
    "- 86-92\n",
    "- 86-93\n",
    "- 86-95\n",
    "- 86-99\n",
    "- 86-100\n",
    "- 86-107\n",
    "- 86-110\n",
    "- 86-113\n",
    "- 86-117\n",
    "- 86-120\n",
    "- UN16\n",
    "- W43\n",
    "- W55\n",
    "- Y7\n",
    "- Y11\n",
    "- Y14\n",
    "- Y15\n",
    "- Y22\n",
    "- Y28\n",
    "- Y32\n",
    "- Y39\n",
    "- Y45\n",
    "- Y123\n",
    "- Y126\n",
    "- Y127\n",
    "- Y128\n",
    "\n",
    "Using Y114 as the reference amphora.\n",
    "\n",
    "Full jar comparative morphological analysis:\n",
    "- visualization of the average point-to-point distance between the two model point clouds across all amphoras of the dataset\n",
    "- optionally save all point-to-point distances as a csv file to avoid repeating this computaiton\n",
    "\n",
    "# I/O\n",
    "**Inputs:**\n",
    " - comma-separated value (.csv) file for each reference and compared amphora model\n",
    "\n",
    "**Outputs:**\n",
    " - csv file storing all point-to-point distances distance between each pare of compared amphoras\n",
    " - a visualization of the distribution of these average distances across the set of amphoras\n",
    " \n",
    "# Description\n",
    "\n",
    "This notebook is **Part 2** of the user interface for the analysis. Before running the notebook, the user assigns values to the variables in the cell (i.e. block of code) under the heading \"User Inputs;\" this is the only cell that the user should ever edit. The subsequent cells perform the cleaning and analysis of the point clouds.\n",
    "\n",
    "Most of the code has been abstracted away from this notebook and consolidated in a separate utility file in order to leave this notebook user interface clean and uncluttered. I.e. the utility file is where I wrote the code which actually does the heavy lifting; this notebook uses that toolkit."
   ]
  },
  {
   "cell_type": "markdown",
   "metadata": {},
   "source": [
    "## Imports\n",
    "Import modules and other required dependencies.\n",
    "- **util** : the module written by me, containing amphora point cloud analysis methods\n",
    "- **matplotlib** : a module that helps make nice plots"
   ]
  },
  {
   "cell_type": "code",
   "execution_count": 5,
   "metadata": {
    "collapsed": true
   },
   "outputs": [],
   "source": [
    "import sys\n",
    "sys.path.insert(0,'../../')\n",
    "import util\n",
    "import matplotlib.pyplot as plt\n",
    "import numpy as np\n",
    "%matplotlib inline"
   ]
  },
  {
   "cell_type": "markdown",
   "metadata": {},
   "source": [
    "## User Inputs\n",
    "Define some information that the code needs to know. This cell is the only cell that the user should edit."
   ]
  },
  {
   "cell_type": "code",
   "execution_count": 28,
   "metadata": {
    "collapsed": true
   },
   "outputs": [],
   "source": [
    "ref = 'Y114'\n",
    "# compared = ['84-10', '86-85', '86-92', '86-93', '86-99', '86-107', '86-110', '86-117', '86-120', 'C', 'D', 'F', 'W43', 'W55', 'Y7', 'Y11', 'Y15', 'Y39', 'Y126', 'Y127', 'Y128']\n",
    "compare = ['83-2',\n",
    "          '84-3',\n",
    "          '84-10',\n",
    "          '86-75',\n",
    "          '86-85',\n",
    "          '86-92',\n",
    "          '86-93',\n",
    "          '86-95',\n",
    "          '86-99',\n",
    "          '86-100',\n",
    "          '86-107',\n",
    "          '86-110',\n",
    "          '86-113',\n",
    "          '86-117',\n",
    "          '86-120',\n",
    "          'UN16',\n",
    "          'W43',\n",
    "          'W55',\n",
    "          'Y7',\n",
    "          'Y11',\n",
    "          'Y14',\n",
    "          'Y15',\n",
    "          'Y22',\n",
    "          'Y28',\n",
    "          'Y32',\n",
    "          'Y39',\n",
    "          'Y45',\n",
    "          'Y123',\n",
    "          'Y126',\n",
    "          'Y127',\n",
    "          'Y128']\n",
    "path_to_csv = './clean_csv/'\n",
    "save_distances = True      # whether or not to save csv files of nearest-neighbor distances between objects.\n",
    "                           # Set True if these files do not yet exist, else False."
   ]
  },
  {
   "cell_type": "markdown",
   "metadata": {},
   "source": [
    "## Cloud-to-Cloud Distance Comparison\n",
    "For each model, calculate the mean distance from each point in Object 1 to the nearest neighbor in Object 2."
   ]
  },
  {
   "cell_type": "code",
   "execution_count": 29,
   "metadata": {},
   "outputs": [
    {
     "name": "stdout",
     "output_type": "stream",
     "text": [
      "83-2\n",
      "84-3\n",
      "84-10\n",
      "86-75\n",
      "86-85\n",
      "86-92\n",
      "86-93\n",
      "86-95\n",
      "86-99\n",
      "86-100\n",
      "86-107\n",
      "86-110\n",
      "86-113\n",
      "86-117\n",
      "86-120\n",
      "UN16\n",
      "W43\n",
      "W55\n",
      "Y7\n",
      "Y11\n",
      "Y14\n",
      "Y15\n",
      "Y22\n",
      "Y28\n",
      "Y32\n",
      "Y39\n",
      "Y45\n",
      "Y123\n",
      "Y126\n",
      "Y127\n",
      "Y128\n"
     ]
    }
   ],
   "source": [
    "average_distances = []\n",
    "stdev_distances = []\n",
    "for model in compare:\n",
    "    \n",
    "    print model # so the user can see which segment the code is working on\n",
    "    \n",
    "    ref_csv_path = path_to_csv + ref + '.csv'\n",
    "    model_csv_path = path_to_csv + model + '.csv'\n",
    "    dist_filename = ref + '_' + model + '_distances.csv'\n",
    "    \n",
    "    average_distance, stdev_distance = util.get_avg_cc_dist(ref_csv_path, model_csv_path, save_distances, dist_filename)\n",
    "    \n",
    "    average_distances.append(average_distance)\n",
    "    stdev_distances.append(stdev_distance)"
   ]
  },
  {
   "cell_type": "markdown",
   "metadata": {},
   "source": [
    "^ Each of these are status messages, which print while the program is running when the corresponding model is being compared with the reference."
   ]
  },
  {
   "cell_type": "markdown",
   "metadata": {},
   "source": [
    "# Morphological difference from Y114 across the dataset"
   ]
  },
  {
   "cell_type": "code",
   "execution_count": 33,
   "metadata": {},
   "outputs": [
    {
     "data": {
      "image/png": "[encoded data removed]",
      "text/plain": [
       "<matplotlib.figure.Figure at 0x1c19c77050>"
      ]
     },
     "metadata": {},
     "output_type": "display_data"
    }
   ],
   "source": [
    "# order the compared amphoras by avg NND to ref amphora\n",
    "compare_sorted = [x for _,x in sorted(zip(average_distances, compare))]\n",
    "average_distances_sorted = sorted(average_distances)\n",
    "\n",
    "fig, ax = plt.subplots(figsize = (15, 6))\n",
    "x_pos = np.arange(len(compare_sorted))\n",
    "ax.bar(x_pos, average_distances_sorted, color='#412100')\n",
    "ax.set_xticks(x_pos)\n",
    "ax.set_xticklabels(compare_sorted)\n",
    "ax.set_xlabel('Compared with Y114')\n",
    "ax.set_ylabel('Average point-to-nearest-neighbor distance')\n",
    "ax.set_title('Morphological Difference (NND) from Y114')\n",
    "plt.xticks(rotation='vertical')\n",
    "plt.show()"
   ]
  },
  {
   "cell_type": "markdown",
   "metadata": {},
   "source": [
    "** Import pertinent data physically measured. **"
   ]
  },
  {
   "cell_type": "code",
   "execution_count": 21,
   "metadata": {},
   "outputs": [
    {
     "name": "stdout",
     "output_type": "stream",
     "text": [
      "        max_diam  body_height                       group\n",
      "tag                                                      \n",
      "83-2        40.7         38.9  Spiral combed - main group\n",
      "84-3        42.0         41.3  Spiral combed - main group\n",
      "84-10       41.8         40.9  Spiral combed - main group\n",
      "86-75       41.8         41.4  Spiral combed - main group\n",
      "86-85       41.3         39.0  Spiral combed - main group\n",
      "86-92       40.9         41.2  Spiral combed - main group\n",
      "86-93       42.3         41.3  Spiral combed - main group\n",
      "86-95       43.0         41.5  Spiral combed - main group\n",
      "86-99       41.1         42.1  Spiral combed - main group\n",
      "86-100      41.4         43.1  Spiral combed - main group\n",
      "86-107      41.9         42.2  Spiral combed - main group\n",
      "86-110      43.9         43.2  Spiral combed - main group\n",
      "86-113      42.0         42.2  Spiral combed - main group\n",
      "86-117      42.8         42.3  Spiral combed - main group\n",
      "86-120      41.8         42.4  Spiral combed - main group\n",
      "UN16        42.7         41.7  Spiral combed - main group\n",
      "W43         42.8         40.3  Spiral combed - main group\n",
      "W55         42.3         41.4  Spiral combed - main group\n",
      "Y7          42.2         41.5  Spiral combed - main group\n",
      "Y11         41.1         40.8  Spiral combed - main group\n",
      "Y14         41.9         41.8  Spiral combed - main group\n",
      "Y15         41.9         39.7  Spiral combed - main group\n",
      "Y22         41.1         41.4  Spiral combed - main group\n",
      "Y28         40.2         39.3  Spiral combed - main group\n",
      "Y32         42.4         42.2  Spiral combed - main group\n",
      "Y39         42.9         42.1  Spiral combed - main group\n",
      "Y45         42.6         41.9  Spiral combed - main group\n",
      "Y114        41.9         41.5  Spiral combed - main group\n",
      "Y123        42.2         40.5  Spiral combed - main group\n",
      "Y126        43.1         42.0  Spiral combed - main group\n",
      "Y127        42.8         41.5  Spiral combed - main group\n",
      "Y128        41.5         41.9  Spiral combed - main group\n"
     ]
    }
   ],
   "source": [
    "import pandas as pd\n",
    "phys_data = pd.read_csv('phys_data.csv', index_col=0)\n",
    "print phys_data"
   ]
  },
  {
   "cell_type": "markdown",
   "metadata": {},
   "source": [
    "Printing physical measurement ranges for reference:"
   ]
  },
  {
   "cell_type": "code",
   "execution_count": 14,
   "metadata": {},
   "outputs": [
    {
     "name": "stdout",
     "output_type": "stream",
     "text": [
      "range max diameter: 40.2 -> 43.9 cm\n",
      "range body height:  38.9 -> 43.2 cm\n"
     ]
    }
   ],
   "source": [
    "print 'range max diameter: ' + str(40.2) + ' -> ' + str(43.9) + ' cm'\n",
    "print 'range body height:  ' + str(38.9) + ' -> ' + str(43.2) + ' cm'"
   ]
  },
  {
   "cell_type": "markdown",
   "metadata": {},
   "source": [
    "# Morphological difference compared with other physical quantities across the dataset"
   ]
  },
  {
   "cell_type": "code",
   "execution_count": 77,
   "metadata": {},
   "outputs": [
    {
     "data": {
      "image/png": "[encoded data removed]",
      "text/plain": [
       "<matplotlib.figure.Figure at 0x1c1beef2d0>"
      ]
     },
     "metadata": {},
     "output_type": "display_data"
    }
   ],
   "source": [
    "from matplotlib.lines import Line2D\n",
    "\n",
    "phys_data_comp = phys_data.drop([ref])\n",
    "\n",
    "max_diam = list(phys_data_comp['max_diam'])\n",
    "body_height = list(phys_data_comp['body_height'])\n",
    "\n",
    "max_diam_sorted = [x for _,x in sorted(zip(average_distances, max_diam))]\n",
    "body_height_sorted = [x for _,x in sorted(zip(average_distances, body_height))]\n",
    "\n",
    "fig, ax = plt.subplots(figsize=(15,6))\n",
    "x_pos = np.arange(len(compare_sorted))\n",
    "\n",
    "w = 0.2\n",
    "s = 0.03\n",
    "\n",
    "colors = ['#d2c295', '#928b81']\n",
    "\n",
    "ax.bar(x_pos-w-s, [x*10 for x in average_distances_sorted],width=w,color='#412100',align='center')\n",
    "ax.bar(x_pos, max_diam_sorted,width=w,color=colors[0],align='center')\n",
    "ax.bar(x_pos+w+s, body_height_sorted,width=w,color=colors[1],align='center')\n",
    "\n",
    "handle_list = [Line2D([0],[0], marker='o', color='w', markerfacecolor='#412100', label='Avg NND compared with Y114 [mm * 0.1]'),\n",
    "               Line2D([0],[0], marker='o', color='w', markerfacecolor=colors[0], label='Max diameter [cm]'),\n",
    "               Line2D([0],[0], marker='o', color='w', markerfacecolor=colors[1], label='Body height [cm]')]\n",
    "plt.legend(handles=handle_list, loc='upper left')\n",
    "plt.xlabel('ID')\n",
    "ax.set_xticks(x_pos)\n",
    "ax.set_xticklabels(compare_sorted)\n",
    "ax.set_title('Morphological Difference (Avg. NND) from Y114 and Absolute Physical Measurements')\n",
    "plt.xticks(rotation='vertical')\n",
    "plt.show()"
   ]
  },
  {
   "cell_type": "markdown",
   "metadata": {},
   "source": [
    "#### measurement difference =  abs(measurement - Y114 measurement)"
   ]
  },
  {
   "cell_type": "code",
   "execution_count": 24,
   "metadata": {
    "scrolled": true
   },
   "outputs": [],
   "source": [
    "row_Y114 = phys_data.loc['Y114']\n",
    "\n",
    "max_diam_sorted_diff_with_Y114 = [abs(x-row_Y114.loc['max_diam']) for x in max_diam_sorted]\n",
    "body_height_sorted_diff_with_Y114 = [abs(x-row_Y114.loc['body_height']) for x in body_height_sorted]"
   ]
  },
  {
   "cell_type": "code",
   "execution_count": 78,
   "metadata": {},
   "outputs": [
    {
     "data": {
      "image/png": "[encoded data removed]",
      "text/plain": [
       "<matplotlib.figure.Figure at 0x1c1b87a2d0>"
      ]
     },
     "metadata": {},
     "output_type": "display_data"
    }
   ],
   "source": [
    "fig, ax = plt.subplots(figsize=(15,6))\n",
    "x_pos = np.arange(len(compare_sorted))\n",
    "\n",
    "w = 0.2\n",
    "s = 0.03\n",
    "\n",
    "colors = ['#d2c295', '#928b81']\n",
    "\n",
    "ax.bar(x_pos-w-s, average_distances_sorted,width=w, color='#412100',align='center')\n",
    "ax.bar(x_pos, max_diam_sorted_diff_with_Y114,width=w, color=colors[0],align='center')\n",
    "ax.bar(x_pos+w+s, body_height_sorted_diff_with_Y114,width=w, color=colors[1],align='center')\n",
    "\n",
    "handle_list = [Line2D([0],[0], marker='o', color='w', markerfacecolor='#412100', label='Avg NND compared with Y114 [mm]'),\n",
    "               Line2D([0],[0], marker='o', color='w', markerfacecolor=colors[0], label='Difference in max diameter from Y114 [cm]'),\n",
    "               Line2D([0],[0], marker='o', color='w', markerfacecolor=colors[1], label='Difference in body height from Y114 [cm]')]\n",
    "\n",
    "plt.legend(handles=handle_list, loc='upper left')\n",
    "plt.xlabel('ID')\n",
    "ax.set_xticks(x_pos)\n",
    "ax.set_xticklabels(compare_sorted)\n",
    "ax.set_title('Morphological Difference (avg. NND) from Y114 and Differences in Physically-Measured Metrics from Y114')\n",
    "plt.xticks(rotation='vertical')\n",
    "plt.show()"
   ]
  },
  {
   "cell_type": "markdown",
   "metadata": {},
   "source": [
    "# Characterizing the dataset as a whole"
   ]
  },
  {
   "cell_type": "code",
   "execution_count": 36,
   "metadata": {
    "scrolled": false
   },
   "outputs": [
    {
     "name": "stdout",
     "output_type": "stream",
     "text": [
      "Physical metrics, absolute\n",
      "\n",
      "\t\tmean\t\tstdev\t\tcv\n",
      "\n",
      "max diam [cm]\t42.012903\t0.795853\t52.789782\n",
      "body ht [cm]\t41.387097\t1.046882\t39.533668\n",
      "\n",
      "Physical metrics, difference from Y114\n",
      "\n",
      "\t\tmean\t\tstdev\t\tcv\n",
      "\n",
      "max diam [cm]\t0.635484\t0.492229\t1.291033\n",
      "body ht [cm]\t0.764516\t0.724034\t1.055912\n",
      "\n",
      "Morphological difference from Y114\n",
      "\n",
      "\t\tmean\t\tstdev\t\tcv\n",
      "\n",
      "NND [mm]\t2.661336\t0.480366\t5.540226\n"
     ]
    }
   ],
   "source": [
    "metrics_abs = [max_diam_sorted,\n",
    "          body_height_sorted]\n",
    "\n",
    "metrics_diff = [max_diam_sorted_diff_with_Y114,\n",
    "          body_height_sorted_diff_with_Y114]\n",
    "\n",
    "metric_names = ['max diam [cm]', 'body ht [cm]']\n",
    "\n",
    "print 'Physical metrics, absolute\\n\\n\\t\\t%s\\t\\t%s\\t\\t%s\\n' % ('mean', 'stdev', 'cv')\n",
    "for metric, name in zip(metrics_abs, metric_names):\n",
    "    print '%s\\t%f\\t%f\\t%f' % (name, np.mean(metric), np.std(metric), np.mean(metric)/np.std(metric))\n",
    "\n",
    "print '\\nPhysical metrics, difference from %s\\n\\n\\t\\t%s\\t\\t%s\\t\\t%s\\n' % (ref, 'mean', 'stdev', 'cv')\n",
    "for metric, name in zip(metrics_diff, metric_names):\n",
    "    print '%s\\t%f\\t%f\\t%f' % (name, np.mean(metric), np.std(metric), np.mean(metric)/np.std(metric))\n",
    "    \n",
    "print '\\nMorphological difference from Y114\\n\\n\\t\\t%s\\t\\t%s\\t\\t%s\\n' % ('mean', 'stdev', 'cv')\n",
    "name = 'NND [mm]'\n",
    "metric = average_distances_sorted\n",
    "print '%s\\t%f\\t%f\\t%f' % (name, np.mean(metric), np.std(metric), np.mean(metric)/np.std(metric))\n"
   ]
  },
  {
   "cell_type": "code",
   "execution_count": null,
   "metadata": {
    "collapsed": true
   },
   "outputs": [],
   "source": []
  }
 ],
 "metadata": {
  "kernelspec": {
   "display_name": "Python 2",
   "language": "python",
   "name": "python2"
  },
  "language_info": {
   "codemirror_mode": {
    "name": "ipython",
    "version": 2
   },
   "file_extension": ".py",
   "mimetype": "text/x-python",
   "name": "python",
   "nbconvert_exporter": "python",
   "pygments_lexer": "ipython2",
   "version": "2.7.13"
  }
 },
 "nbformat": 4,
 "nbformat_minor": 2
}
